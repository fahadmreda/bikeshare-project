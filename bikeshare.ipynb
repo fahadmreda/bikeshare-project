{
 "cells": [
  {
   "cell_type": "markdown",
   "id": "6d4fb18e-3e0e-4605-a604-6c7948c5380a",
   "metadata": {},
   "source": [
    "### Explore Bike Share Data\n",
    "\n",
    "For this project, your goal is to ask and answer three questions about the available bikeshare data from Washington, Chicago, and New York.  This notebook can be submitted directly through the workspace when you are confident in your results.\n",
    "\n",
    "You will be graded against the project [Rubric](https://review.udacity.com/#!/rubrics/2508/view) by a mentor after you have submitted.  To get you started, you can use the template below, but feel free to be creative in your solutions!"
   ]
  },
  {
   "cell_type": "markdown",
   "id": "b0691a80-2662-4292-933b-8554dbe69415",
   "metadata": {},
   "source": [
    "The Datasets\n",
    "Randomly selected data for the first six months of 2017 are provided for all three cities. All three of the data files contain the same core six (6) columns:\n",
    "\n",
    "* Start Time (e.g., 2017-01-01 00:07:57) <br>\n",
    "* End Time (e.g., 2017-01-01 00:20:53) <br>\n",
    "* Trip Duration (in seconds - e.g., 776) <br>\n",
    "* Start Station (e.g., Broadway & Barry Ave) <br>\n",
    "* End Station (e.g., Sedgwick St & North Ave) <br>\n",
    "* User Type (Subscriber or Customer) <br>\n",
    "* The Chicago and New York City files also have the following two columns: <br>\n",
    "\n",
    "* Gender\n",
    "* Birth Year"
   ]
  },
  {
   "cell_type": "code",
   "execution_count": 1,
   "id": "88bbc6e8-87f8-43ec-813d-a324834146a5",
   "metadata": {},
   "outputs": [],
   "source": [
    "\n",
    "#Turn warnings off\n",
    "options(warn = -1)\n",
    "#Import\n",
    "library(readr)\n",
    "library(ggplot2) \n"
   ]
  },
  {
   "cell_type": "code",
   "execution_count": 2,
   "id": "f8ba3d5b-1edb-46e2-8665-d309b0b038f1",
   "metadata": {},
   "outputs": [
    {
     "name": "stderr",
     "output_type": "stream",
     "text": [
      "\u001b[1m\u001b[22mNew names:\n",
      "\u001b[36m•\u001b[39m `` -> `...1`\n",
      "\u001b[1mRows: \u001b[22m\u001b[34m300000\u001b[39m \u001b[1mColumns: \u001b[22m\u001b[34m9\u001b[39m\n",
      "\u001b[36m──\u001b[39m \u001b[1mColumn specification\u001b[22m \u001b[36m────────────────────────────────────────────────────────────────────────────────────────────────\u001b[39m\n",
      "\u001b[1mDelimiter:\u001b[22m \",\"\n",
      "\u001b[31mchr\u001b[39m  (4): Start Station, End Station, User Type, Gender\n",
      "\u001b[32mdbl\u001b[39m  (3): ...1, Trip Duration, Birth Year\n",
      "\u001b[34mdttm\u001b[39m (2): Start Time, End Time\n",
      "\n",
      "\u001b[36mℹ\u001b[39m Use `spec()` to retrieve the full column specification for this data.\n",
      "\u001b[36mℹ\u001b[39m Specify the column types or set `show_col_types = FALSE` to quiet this message.\n",
      "\u001b[1m\u001b[22mNew names:\n",
      "\u001b[36m•\u001b[39m `` -> `...1`\n",
      "\u001b[1mRows: \u001b[22m\u001b[34m300000\u001b[39m \u001b[1mColumns: \u001b[22m\u001b[34m7\u001b[39m\n",
      "\u001b[36m──\u001b[39m \u001b[1mColumn specification\u001b[22m \u001b[36m────────────────────────────────────────────────────────────────────────────────────────────────\u001b[39m\n",
      "\u001b[1mDelimiter:\u001b[22m \",\"\n",
      "\u001b[31mchr\u001b[39m  (3): Start Station, End Station, User Type\n",
      "\u001b[32mdbl\u001b[39m  (2): ...1, Trip Duration\n",
      "\u001b[34mdttm\u001b[39m (2): Start Time, End Time\n",
      "\n",
      "\u001b[36mℹ\u001b[39m Use `spec()` to retrieve the full column specification for this data.\n",
      "\u001b[36mℹ\u001b[39m Specify the column types or set `show_col_types = FALSE` to quiet this message.\n",
      "\u001b[1m\u001b[22mNew names:\n",
      "\u001b[36m•\u001b[39m `` -> `...1`\n",
      "\u001b[1mRows: \u001b[22m\u001b[34m300000\u001b[39m \u001b[1mColumns: \u001b[22m\u001b[34m9\u001b[39m\n",
      "\u001b[36m──\u001b[39m \u001b[1mColumn specification\u001b[22m \u001b[36m────────────────────────────────────────────────────────────────────────────────────────────────\u001b[39m\n",
      "\u001b[1mDelimiter:\u001b[22m \",\"\n",
      "\u001b[31mchr\u001b[39m  (4): Start Station, End Station, User Type, Gender\n",
      "\u001b[32mdbl\u001b[39m  (3): ...1, Trip Duration, Birth Year\n",
      "\u001b[34mdttm\u001b[39m (2): Start Time, End Time\n",
      "\n",
      "\u001b[36mℹ\u001b[39m Use `spec()` to retrieve the full column specification for this data.\n",
      "\u001b[36mℹ\u001b[39m Specify the column types or set `show_col_types = FALSE` to quiet this message.\n"
     ]
    }
   ],
   "source": [
    "#Importing all the datasets \n",
    "ny <- read_csv(\"new_york_city.csv\")\n",
    "wash <- read_csv(\"washington.csv\")\n",
    "chi <- read_csv(\"chicago.csv\")"
   ]
  },
  {
   "cell_type": "code",
   "execution_count": 3,
   "id": "115a7aef-498e-4c5c-ad80-1d203e952d5a",
   "metadata": {},
   "outputs": [
    {
     "data": {
      "text/html": [
       "<table class=\"dataframe\">\n",
       "<caption>A tibble: 6 × 9</caption>\n",
       "<thead>\n",
       "\t<tr><th scope=col>...1</th><th scope=col>Start Time</th><th scope=col>End Time</th><th scope=col>Trip Duration</th><th scope=col>Start Station</th><th scope=col>End Station</th><th scope=col>User Type</th><th scope=col>Gender</th><th scope=col>Birth Year</th></tr>\n",
       "\t<tr><th scope=col>&lt;dbl&gt;</th><th scope=col>&lt;dttm&gt;</th><th scope=col>&lt;dttm&gt;</th><th scope=col>&lt;dbl&gt;</th><th scope=col>&lt;chr&gt;</th><th scope=col>&lt;chr&gt;</th><th scope=col>&lt;chr&gt;</th><th scope=col>&lt;chr&gt;</th><th scope=col>&lt;dbl&gt;</th></tr>\n",
       "</thead>\n",
       "<tbody>\n",
       "\t<tr><td>5688089</td><td>2017-06-11 14:55:05</td><td>2017-06-11 15:08:21</td><td> 795</td><td>Suffolk St &amp; Stanton St</td><td>W Broadway &amp; Spring St</td><td>Subscriber</td><td><span style=white-space:pre-wrap>Male  </span></td><td>1998</td></tr>\n",
       "\t<tr><td>4096714</td><td>2017-05-11 15:30:11</td><td>2017-05-11 15:41:43</td><td> 692</td><td>Lexington Ave &amp; E 63 St</td><td><span style=white-space:pre-wrap>1 Ave &amp; E 78 St       </span></td><td>Subscriber</td><td><span style=white-space:pre-wrap>Male  </span></td><td>1981</td></tr>\n",
       "\t<tr><td>2173887</td><td>2017-03-29 13:26:26</td><td>2017-03-29 13:48:31</td><td>1325</td><td><span style=white-space:pre-wrap>1 Pl &amp; Clinton St      </span></td><td><span style=white-space:pre-wrap>Henry St &amp; Degraw St  </span></td><td>Subscriber</td><td><span style=white-space:pre-wrap>Male  </span></td><td>1987</td></tr>\n",
       "\t<tr><td>3945638</td><td>2017-05-08 19:47:18</td><td>2017-05-08 19:59:01</td><td> 703</td><td><span style=white-space:pre-wrap>Barrow St &amp; Hudson St  </span></td><td><span style=white-space:pre-wrap>W 20 St &amp; 8 Ave       </span></td><td>Subscriber</td><td>Female</td><td>1986</td></tr>\n",
       "\t<tr><td>6208972</td><td>2017-06-21 07:49:16</td><td>2017-06-21 07:54:46</td><td> 329</td><td><span style=white-space:pre-wrap>1 Ave &amp; E 44 St        </span></td><td><span style=white-space:pre-wrap>E 53 St &amp; 3 Ave       </span></td><td>Subscriber</td><td><span style=white-space:pre-wrap>Male  </span></td><td>1992</td></tr>\n",
       "\t<tr><td>1285652</td><td>2017-02-22 18:55:24</td><td>2017-02-22 19:12:03</td><td> 998</td><td><span style=white-space:pre-wrap>State St &amp; Smith St    </span></td><td><span style=white-space:pre-wrap>Bond St &amp; Fulton St   </span></td><td>Subscriber</td><td><span style=white-space:pre-wrap>Male  </span></td><td>1986</td></tr>\n",
       "</tbody>\n",
       "</table>\n"
      ],
      "text/latex": [
       "A tibble: 6 × 9\n",
       "\\begin{tabular}{lllllllll}\n",
       " ...1 & Start Time & End Time & Trip Duration & Start Station & End Station & User Type & Gender & Birth Year\\\\\n",
       " <dbl> & <dttm> & <dttm> & <dbl> & <chr> & <chr> & <chr> & <chr> & <dbl>\\\\\n",
       "\\hline\n",
       "\t 5688089 & 2017-06-11 14:55:05 & 2017-06-11 15:08:21 &  795 & Suffolk St \\& Stanton St & W Broadway \\& Spring St & Subscriber & Male   & 1998\\\\\n",
       "\t 4096714 & 2017-05-11 15:30:11 & 2017-05-11 15:41:43 &  692 & Lexington Ave \\& E 63 St & 1 Ave \\& E 78 St        & Subscriber & Male   & 1981\\\\\n",
       "\t 2173887 & 2017-03-29 13:26:26 & 2017-03-29 13:48:31 & 1325 & 1 Pl \\& Clinton St       & Henry St \\& Degraw St   & Subscriber & Male   & 1987\\\\\n",
       "\t 3945638 & 2017-05-08 19:47:18 & 2017-05-08 19:59:01 &  703 & Barrow St \\& Hudson St   & W 20 St \\& 8 Ave        & Subscriber & Female & 1986\\\\\n",
       "\t 6208972 & 2017-06-21 07:49:16 & 2017-06-21 07:54:46 &  329 & 1 Ave \\& E 44 St         & E 53 St \\& 3 Ave        & Subscriber & Male   & 1992\\\\\n",
       "\t 1285652 & 2017-02-22 18:55:24 & 2017-02-22 19:12:03 &  998 & State St \\& Smith St     & Bond St \\& Fulton St    & Subscriber & Male   & 1986\\\\\n",
       "\\end{tabular}\n"
      ],
      "text/markdown": [
       "\n",
       "A tibble: 6 × 9\n",
       "\n",
       "| ...1 &lt;dbl&gt; | Start Time &lt;dttm&gt; | End Time &lt;dttm&gt; | Trip Duration &lt;dbl&gt; | Start Station &lt;chr&gt; | End Station &lt;chr&gt; | User Type &lt;chr&gt; | Gender &lt;chr&gt; | Birth Year &lt;dbl&gt; |\n",
       "|---|---|---|---|---|---|---|---|---|\n",
       "| 5688089 | 2017-06-11 14:55:05 | 2017-06-11 15:08:21 |  795 | Suffolk St &amp; Stanton St | W Broadway &amp; Spring St | Subscriber | Male   | 1998 |\n",
       "| 4096714 | 2017-05-11 15:30:11 | 2017-05-11 15:41:43 |  692 | Lexington Ave &amp; E 63 St | 1 Ave &amp; E 78 St        | Subscriber | Male   | 1981 |\n",
       "| 2173887 | 2017-03-29 13:26:26 | 2017-03-29 13:48:31 | 1325 | 1 Pl &amp; Clinton St       | Henry St &amp; Degraw St   | Subscriber | Male   | 1987 |\n",
       "| 3945638 | 2017-05-08 19:47:18 | 2017-05-08 19:59:01 |  703 | Barrow St &amp; Hudson St   | W 20 St &amp; 8 Ave        | Subscriber | Female | 1986 |\n",
       "| 6208972 | 2017-06-21 07:49:16 | 2017-06-21 07:54:46 |  329 | 1 Ave &amp; E 44 St         | E 53 St &amp; 3 Ave        | Subscriber | Male   | 1992 |\n",
       "| 1285652 | 2017-02-22 18:55:24 | 2017-02-22 19:12:03 |  998 | State St &amp; Smith St     | Bond St &amp; Fulton St    | Subscriber | Male   | 1986 |\n",
       "\n"
      ],
      "text/plain": [
       "  ...1    Start Time          End Time            Trip Duration\n",
       "1 5688089 2017-06-11 14:55:05 2017-06-11 15:08:21  795         \n",
       "2 4096714 2017-05-11 15:30:11 2017-05-11 15:41:43  692         \n",
       "3 2173887 2017-03-29 13:26:26 2017-03-29 13:48:31 1325         \n",
       "4 3945638 2017-05-08 19:47:18 2017-05-08 19:59:01  703         \n",
       "5 6208972 2017-06-21 07:49:16 2017-06-21 07:54:46  329         \n",
       "6 1285652 2017-02-22 18:55:24 2017-02-22 19:12:03  998         \n",
       "  Start Station           End Station            User Type  Gender Birth Year\n",
       "1 Suffolk St & Stanton St W Broadway & Spring St Subscriber Male   1998      \n",
       "2 Lexington Ave & E 63 St 1 Ave & E 78 St        Subscriber Male   1981      \n",
       "3 1 Pl & Clinton St       Henry St & Degraw St   Subscriber Male   1987      \n",
       "4 Barrow St & Hudson St   W 20 St & 8 Ave        Subscriber Female 1986      \n",
       "5 1 Ave & E 44 St         E 53 St & 3 Ave        Subscriber Male   1992      \n",
       "6 State St & Smith St     Bond St & Fulton St    Subscriber Male   1986      "
      ]
     },
     "metadata": {},
     "output_type": "display_data"
    }
   ],
   "source": [
    "#Checking the first 6 rows of ny dataset\n",
    "head(ny)"
   ]
  },
  {
   "cell_type": "code",
   "execution_count": 4,
   "id": "70a0f8ec-e520-471a-8938-6e1df381af06",
   "metadata": {},
   "outputs": [
    {
     "data": {
      "text/html": [
       "<table class=\"dataframe\">\n",
       "<caption>A tibble: 6 × 7</caption>\n",
       "<thead>\n",
       "\t<tr><th scope=col>...1</th><th scope=col>Start Time</th><th scope=col>End Time</th><th scope=col>Trip Duration</th><th scope=col>Start Station</th><th scope=col>End Station</th><th scope=col>User Type</th></tr>\n",
       "\t<tr><th scope=col>&lt;dbl&gt;</th><th scope=col>&lt;dttm&gt;</th><th scope=col>&lt;dttm&gt;</th><th scope=col>&lt;dbl&gt;</th><th scope=col>&lt;chr&gt;</th><th scope=col>&lt;chr&gt;</th><th scope=col>&lt;chr&gt;</th></tr>\n",
       "</thead>\n",
       "<tbody>\n",
       "\t<tr><td>1621326</td><td>2017-06-21 08:36:34</td><td>2017-06-21 08:44:43</td><td> 489.066</td><td><span style=white-space:pre-wrap>14th &amp; Belmont St NW                       </span></td><td><span style=white-space:pre-wrap>15th &amp; K St NW                                     </span></td><td>Subscriber</td></tr>\n",
       "\t<tr><td> 482740</td><td>2017-03-11 10:40:00</td><td>2017-03-11 10:46:00</td><td> 402.549</td><td><span style=white-space:pre-wrap>Yuma St &amp; Tenley Circle NW                 </span></td><td><span style=white-space:pre-wrap>Connecticut Ave &amp; Yuma St NW                       </span></td><td>Subscriber</td></tr>\n",
       "\t<tr><td>1330037</td><td>2017-05-30 01:02:59</td><td>2017-05-30 01:13:37</td><td> 637.251</td><td><span style=white-space:pre-wrap>17th St &amp; Massachusetts Ave NW             </span></td><td><span style=white-space:pre-wrap>5th &amp; K St NW                                      </span></td><td>Subscriber</td></tr>\n",
       "\t<tr><td> 665458</td><td>2017-04-02 07:48:35</td><td>2017-04-02 08:19:03</td><td>1827.341</td><td><span style=white-space:pre-wrap>Constitution Ave &amp; 2nd St NW/DOL           </span></td><td><span style=white-space:pre-wrap>M St &amp; Pennsylvania Ave NW                         </span></td><td><span style=white-space:pre-wrap>Customer  </span></td></tr>\n",
       "\t<tr><td>1481135</td><td>2017-06-10 08:36:28</td><td>2017-06-10 09:02:17</td><td>1549.427</td><td>Henry Bacon Dr &amp; Lincoln Memorial Circle NW</td><td><span style=white-space:pre-wrap>Maine Ave &amp; 7th St SW                              </span></td><td>Subscriber</td></tr>\n",
       "\t<tr><td>1148202</td><td>2017-05-14 07:18:18</td><td>2017-05-14 07:24:56</td><td> 398.000</td><td><span style=white-space:pre-wrap>1st &amp; K St SE                              </span></td><td>Eastern Market Metro / Pennsylvania Ave &amp; 7th St SE</td><td>Subscriber</td></tr>\n",
       "</tbody>\n",
       "</table>\n"
      ],
      "text/latex": [
       "A tibble: 6 × 7\n",
       "\\begin{tabular}{lllllll}\n",
       " ...1 & Start Time & End Time & Trip Duration & Start Station & End Station & User Type\\\\\n",
       " <dbl> & <dttm> & <dttm> & <dbl> & <chr> & <chr> & <chr>\\\\\n",
       "\\hline\n",
       "\t 1621326 & 2017-06-21 08:36:34 & 2017-06-21 08:44:43 &  489.066 & 14th \\& Belmont St NW                        & 15th \\& K St NW                                      & Subscriber\\\\\n",
       "\t  482740 & 2017-03-11 10:40:00 & 2017-03-11 10:46:00 &  402.549 & Yuma St \\& Tenley Circle NW                  & Connecticut Ave \\& Yuma St NW                        & Subscriber\\\\\n",
       "\t 1330037 & 2017-05-30 01:02:59 & 2017-05-30 01:13:37 &  637.251 & 17th St \\& Massachusetts Ave NW              & 5th \\& K St NW                                       & Subscriber\\\\\n",
       "\t  665458 & 2017-04-02 07:48:35 & 2017-04-02 08:19:03 & 1827.341 & Constitution Ave \\& 2nd St NW/DOL            & M St \\& Pennsylvania Ave NW                          & Customer  \\\\\n",
       "\t 1481135 & 2017-06-10 08:36:28 & 2017-06-10 09:02:17 & 1549.427 & Henry Bacon Dr \\& Lincoln Memorial Circle NW & Maine Ave \\& 7th St SW                               & Subscriber\\\\\n",
       "\t 1148202 & 2017-05-14 07:18:18 & 2017-05-14 07:24:56 &  398.000 & 1st \\& K St SE                               & Eastern Market Metro / Pennsylvania Ave \\& 7th St SE & Subscriber\\\\\n",
       "\\end{tabular}\n"
      ],
      "text/markdown": [
       "\n",
       "A tibble: 6 × 7\n",
       "\n",
       "| ...1 &lt;dbl&gt; | Start Time &lt;dttm&gt; | End Time &lt;dttm&gt; | Trip Duration &lt;dbl&gt; | Start Station &lt;chr&gt; | End Station &lt;chr&gt; | User Type &lt;chr&gt; |\n",
       "|---|---|---|---|---|---|---|\n",
       "| 1621326 | 2017-06-21 08:36:34 | 2017-06-21 08:44:43 |  489.066 | 14th &amp; Belmont St NW                        | 15th &amp; K St NW                                      | Subscriber |\n",
       "|  482740 | 2017-03-11 10:40:00 | 2017-03-11 10:46:00 |  402.549 | Yuma St &amp; Tenley Circle NW                  | Connecticut Ave &amp; Yuma St NW                        | Subscriber |\n",
       "| 1330037 | 2017-05-30 01:02:59 | 2017-05-30 01:13:37 |  637.251 | 17th St &amp; Massachusetts Ave NW              | 5th &amp; K St NW                                       | Subscriber |\n",
       "|  665458 | 2017-04-02 07:48:35 | 2017-04-02 08:19:03 | 1827.341 | Constitution Ave &amp; 2nd St NW/DOL            | M St &amp; Pennsylvania Ave NW                          | Customer   |\n",
       "| 1481135 | 2017-06-10 08:36:28 | 2017-06-10 09:02:17 | 1549.427 | Henry Bacon Dr &amp; Lincoln Memorial Circle NW | Maine Ave &amp; 7th St SW                               | Subscriber |\n",
       "| 1148202 | 2017-05-14 07:18:18 | 2017-05-14 07:24:56 |  398.000 | 1st &amp; K St SE                               | Eastern Market Metro / Pennsylvania Ave &amp; 7th St SE | Subscriber |\n",
       "\n"
      ],
      "text/plain": [
       "  ...1    Start Time          End Time            Trip Duration\n",
       "1 1621326 2017-06-21 08:36:34 2017-06-21 08:44:43  489.066     \n",
       "2  482740 2017-03-11 10:40:00 2017-03-11 10:46:00  402.549     \n",
       "3 1330037 2017-05-30 01:02:59 2017-05-30 01:13:37  637.251     \n",
       "4  665458 2017-04-02 07:48:35 2017-04-02 08:19:03 1827.341     \n",
       "5 1481135 2017-06-10 08:36:28 2017-06-10 09:02:17 1549.427     \n",
       "6 1148202 2017-05-14 07:18:18 2017-05-14 07:24:56  398.000     \n",
       "  Start Station                              \n",
       "1 14th & Belmont St NW                       \n",
       "2 Yuma St & Tenley Circle NW                 \n",
       "3 17th St & Massachusetts Ave NW             \n",
       "4 Constitution Ave & 2nd St NW/DOL           \n",
       "5 Henry Bacon Dr & Lincoln Memorial Circle NW\n",
       "6 1st & K St SE                              \n",
       "  End Station                                         User Type \n",
       "1 15th & K St NW                                      Subscriber\n",
       "2 Connecticut Ave & Yuma St NW                        Subscriber\n",
       "3 5th & K St NW                                       Subscriber\n",
       "4 M St & Pennsylvania Ave NW                          Customer  \n",
       "5 Maine Ave & 7th St SW                               Subscriber\n",
       "6 Eastern Market Metro / Pennsylvania Ave & 7th St SE Subscriber"
      ]
     },
     "metadata": {},
     "output_type": "display_data"
    }
   ],
   "source": [
    "#Checking the first 6 rows of wash dataset\n",
    "head(wash)"
   ]
  },
  {
   "cell_type": "code",
   "execution_count": 5,
   "id": "f7b536c8-3a8d-4484-a52c-7db7aa9d677e",
   "metadata": {},
   "outputs": [
    {
     "data": {
      "text/html": [
       "<table class=\"dataframe\">\n",
       "<caption>A tibble: 6 × 9</caption>\n",
       "<thead>\n",
       "\t<tr><th scope=col>...1</th><th scope=col>Start Time</th><th scope=col>End Time</th><th scope=col>Trip Duration</th><th scope=col>Start Station</th><th scope=col>End Station</th><th scope=col>User Type</th><th scope=col>Gender</th><th scope=col>Birth Year</th></tr>\n",
       "\t<tr><th scope=col>&lt;dbl&gt;</th><th scope=col>&lt;dttm&gt;</th><th scope=col>&lt;dttm&gt;</th><th scope=col>&lt;dbl&gt;</th><th scope=col>&lt;chr&gt;</th><th scope=col>&lt;chr&gt;</th><th scope=col>&lt;chr&gt;</th><th scope=col>&lt;chr&gt;</th><th scope=col>&lt;dbl&gt;</th></tr>\n",
       "</thead>\n",
       "<tbody>\n",
       "\t<tr><td>1423854</td><td>2017-06-23 15:09:32</td><td>2017-06-23 15:14:53</td><td> 321</td><td><span style=white-space:pre-wrap>Wood St &amp; Hubbard St         </span></td><td><span style=white-space:pre-wrap>Damen Ave &amp; Chicago Ave     </span></td><td>Subscriber</td><td><span style=white-space:pre-wrap>Male  </span></td><td>1992</td></tr>\n",
       "\t<tr><td> 955915</td><td>2017-05-25 18:19:03</td><td>2017-05-25 18:45:53</td><td>1610</td><td><span style=white-space:pre-wrap>Theater on the Lake          </span></td><td>Sheffield Ave &amp; Waveland Ave</td><td>Subscriber</td><td>Female</td><td>1992</td></tr>\n",
       "\t<tr><td><span style=white-space:pre-wrap>   9031</span></td><td>2017-01-04 08:27:49</td><td>2017-01-04 08:34:45</td><td> 416</td><td><span style=white-space:pre-wrap>May St &amp; Taylor St           </span></td><td><span style=white-space:pre-wrap>Wood St &amp; Taylor St         </span></td><td>Subscriber</td><td><span style=white-space:pre-wrap>Male  </span></td><td>1981</td></tr>\n",
       "\t<tr><td> 304487</td><td>2017-03-06 13:49:38</td><td>2017-03-06 13:55:28</td><td> 350</td><td>Christiana Ave &amp; Lawrence Ave</td><td>St. Louis Ave &amp; Balmoral Ave</td><td>Subscriber</td><td><span style=white-space:pre-wrap>Male  </span></td><td>1986</td></tr>\n",
       "\t<tr><td><span style=white-space:pre-wrap>  45207</span></td><td>2017-01-17 14:53:07</td><td>2017-01-17 15:02:01</td><td> 534</td><td><span style=white-space:pre-wrap>Clark St &amp; Randolph St       </span></td><td>Desplaines St &amp; Jackson Blvd</td><td>Subscriber</td><td><span style=white-space:pre-wrap>Male  </span></td><td>1975</td></tr>\n",
       "\t<tr><td>1473887</td><td>2017-06-26 09:01:20</td><td>2017-06-26 09:11:06</td><td> 586</td><td>Clinton St &amp; Washington Blvd </td><td><span style=white-space:pre-wrap>Canal St &amp; Taylor St        </span></td><td>Subscriber</td><td><span style=white-space:pre-wrap>Male  </span></td><td>1990</td></tr>\n",
       "</tbody>\n",
       "</table>\n"
      ],
      "text/latex": [
       "A tibble: 6 × 9\n",
       "\\begin{tabular}{lllllllll}\n",
       " ...1 & Start Time & End Time & Trip Duration & Start Station & End Station & User Type & Gender & Birth Year\\\\\n",
       " <dbl> & <dttm> & <dttm> & <dbl> & <chr> & <chr> & <chr> & <chr> & <dbl>\\\\\n",
       "\\hline\n",
       "\t 1423854 & 2017-06-23 15:09:32 & 2017-06-23 15:14:53 &  321 & Wood St \\& Hubbard St          & Damen Ave \\& Chicago Ave      & Subscriber & Male   & 1992\\\\\n",
       "\t  955915 & 2017-05-25 18:19:03 & 2017-05-25 18:45:53 & 1610 & Theater on the Lake           & Sheffield Ave \\& Waveland Ave & Subscriber & Female & 1992\\\\\n",
       "\t    9031 & 2017-01-04 08:27:49 & 2017-01-04 08:34:45 &  416 & May St \\& Taylor St            & Wood St \\& Taylor St          & Subscriber & Male   & 1981\\\\\n",
       "\t  304487 & 2017-03-06 13:49:38 & 2017-03-06 13:55:28 &  350 & Christiana Ave \\& Lawrence Ave & St. Louis Ave \\& Balmoral Ave & Subscriber & Male   & 1986\\\\\n",
       "\t   45207 & 2017-01-17 14:53:07 & 2017-01-17 15:02:01 &  534 & Clark St \\& Randolph St        & Desplaines St \\& Jackson Blvd & Subscriber & Male   & 1975\\\\\n",
       "\t 1473887 & 2017-06-26 09:01:20 & 2017-06-26 09:11:06 &  586 & Clinton St \\& Washington Blvd  & Canal St \\& Taylor St         & Subscriber & Male   & 1990\\\\\n",
       "\\end{tabular}\n"
      ],
      "text/markdown": [
       "\n",
       "A tibble: 6 × 9\n",
       "\n",
       "| ...1 &lt;dbl&gt; | Start Time &lt;dttm&gt; | End Time &lt;dttm&gt; | Trip Duration &lt;dbl&gt; | Start Station &lt;chr&gt; | End Station &lt;chr&gt; | User Type &lt;chr&gt; | Gender &lt;chr&gt; | Birth Year &lt;dbl&gt; |\n",
       "|---|---|---|---|---|---|---|---|---|\n",
       "| 1423854 | 2017-06-23 15:09:32 | 2017-06-23 15:14:53 |  321 | Wood St &amp; Hubbard St          | Damen Ave &amp; Chicago Ave      | Subscriber | Male   | 1992 |\n",
       "|  955915 | 2017-05-25 18:19:03 | 2017-05-25 18:45:53 | 1610 | Theater on the Lake           | Sheffield Ave &amp; Waveland Ave | Subscriber | Female | 1992 |\n",
       "|    9031 | 2017-01-04 08:27:49 | 2017-01-04 08:34:45 |  416 | May St &amp; Taylor St            | Wood St &amp; Taylor St          | Subscriber | Male   | 1981 |\n",
       "|  304487 | 2017-03-06 13:49:38 | 2017-03-06 13:55:28 |  350 | Christiana Ave &amp; Lawrence Ave | St. Louis Ave &amp; Balmoral Ave | Subscriber | Male   | 1986 |\n",
       "|   45207 | 2017-01-17 14:53:07 | 2017-01-17 15:02:01 |  534 | Clark St &amp; Randolph St        | Desplaines St &amp; Jackson Blvd | Subscriber | Male   | 1975 |\n",
       "| 1473887 | 2017-06-26 09:01:20 | 2017-06-26 09:11:06 |  586 | Clinton St &amp; Washington Blvd  | Canal St &amp; Taylor St         | Subscriber | Male   | 1990 |\n",
       "\n"
      ],
      "text/plain": [
       "  ...1    Start Time          End Time            Trip Duration\n",
       "1 1423854 2017-06-23 15:09:32 2017-06-23 15:14:53  321         \n",
       "2  955915 2017-05-25 18:19:03 2017-05-25 18:45:53 1610         \n",
       "3    9031 2017-01-04 08:27:49 2017-01-04 08:34:45  416         \n",
       "4  304487 2017-03-06 13:49:38 2017-03-06 13:55:28  350         \n",
       "5   45207 2017-01-17 14:53:07 2017-01-17 15:02:01  534         \n",
       "6 1473887 2017-06-26 09:01:20 2017-06-26 09:11:06  586         \n",
       "  Start Station                 End Station                  User Type  Gender\n",
       "1 Wood St & Hubbard St          Damen Ave & Chicago Ave      Subscriber Male  \n",
       "2 Theater on the Lake           Sheffield Ave & Waveland Ave Subscriber Female\n",
       "3 May St & Taylor St            Wood St & Taylor St          Subscriber Male  \n",
       "4 Christiana Ave & Lawrence Ave St. Louis Ave & Balmoral Ave Subscriber Male  \n",
       "5 Clark St & Randolph St        Desplaines St & Jackson Blvd Subscriber Male  \n",
       "6 Clinton St & Washington Blvd  Canal St & Taylor St         Subscriber Male  \n",
       "  Birth Year\n",
       "1 1992      \n",
       "2 1992      \n",
       "3 1981      \n",
       "4 1986      \n",
       "5 1975      \n",
       "6 1990      "
      ]
     },
     "metadata": {},
     "output_type": "display_data"
    }
   ],
   "source": [
    "#Checking the first 6 rows of chi dataset\n",
    "head(chi)"
   ]
  },
  {
   "cell_type": "code",
   "execution_count": 6,
   "id": "cfe65573-4ebc-4dad-a8c2-7c3c5502c581",
   "metadata": {},
   "outputs": [
    {
     "data": {
      "text/html": [
       "<table class=\"dataframe\">\n",
       "<caption>A tibble: 6 × 9</caption>\n",
       "<thead>\n",
       "\t<tr><th scope=col>...1</th><th scope=col>Start Time</th><th scope=col>End Time</th><th scope=col>Trip Duration</th><th scope=col>Start Station</th><th scope=col>End Station</th><th scope=col>User Type</th><th scope=col>Gender</th><th scope=col>Birth Year</th></tr>\n",
       "\t<tr><th scope=col>&lt;dbl&gt;</th><th scope=col>&lt;dttm&gt;</th><th scope=col>&lt;dttm&gt;</th><th scope=col>&lt;dbl&gt;</th><th scope=col>&lt;chr&gt;</th><th scope=col>&lt;chr&gt;</th><th scope=col>&lt;chr&gt;</th><th scope=col>&lt;chr&gt;</th><th scope=col>&lt;dbl&gt;</th></tr>\n",
       "</thead>\n",
       "<tbody>\n",
       "\t<tr><td> 935129</td><td>2017-05-23 17:08:04</td><td>2017-05-23 17:11:37</td><td> 213</td><td><span style=white-space:pre-wrap>Indiana Ave &amp; 31st St        </span></td><td><span style=white-space:pre-wrap>MLK Jr Dr &amp; 29th St         </span></td><td>Subscriber</td><td><span style=white-space:pre-wrap>Male  </span></td><td>1988</td></tr>\n",
       "\t<tr><td><span style=white-space:pre-wrap>  64825</span></td><td>2017-01-21 13:18:00</td><td>2017-01-21 13:27:50</td><td> 590</td><td><span style=white-space:pre-wrap>Orleans St &amp; Elm St (*)      </span></td><td>Sheffield Ave &amp; Webster Ave </td><td>Subscriber</td><td><span style=white-space:pre-wrap>Male  </span></td><td>1965</td></tr>\n",
       "\t<tr><td> 695993</td><td>2017-04-28 19:32:19</td><td>2017-04-28 19:51:18</td><td>1139</td><td><span style=white-space:pre-wrap>Ashland Ave &amp; Blackhawk St   </span></td><td><span style=white-space:pre-wrap>Clark St &amp; Elm St           </span></td><td><span style=white-space:pre-wrap>Customer  </span></td><td><span style=white-space:pre-wrap>NA    </span></td><td><span style=white-space:pre-wrap>  NA</span></td></tr>\n",
       "\t<tr><td> 159685</td><td>2017-02-12 09:59:01</td><td>2017-02-12 10:21:49</td><td>1368</td><td>Ravenswood Ave &amp; Lawrence Ave</td><td>Stockton Dr &amp; Wrightwood Ave</td><td>Subscriber</td><td>Female</td><td>1988</td></tr>\n",
       "\t<tr><td> 564681</td><td>2017-04-16 17:07:15</td><td>2017-04-16 17:19:00</td><td> 705</td><td><span style=white-space:pre-wrap>Sheffield Ave &amp; Willow St    </span></td><td><span style=white-space:pre-wrap>Clark St &amp; Chicago Ave      </span></td><td><span style=white-space:pre-wrap>Customer  </span></td><td><span style=white-space:pre-wrap>NA    </span></td><td><span style=white-space:pre-wrap>  NA</span></td></tr>\n",
       "\t<tr><td>1021247</td><td>2017-05-30 12:38:28</td><td>2017-05-30 12:55:36</td><td>1028</td><td><span style=white-space:pre-wrap>Wacker Dr &amp; Washington St    </span></td><td><span style=white-space:pre-wrap>Damen Ave &amp; Division St     </span></td><td>Subscriber</td><td><span style=white-space:pre-wrap>Male  </span></td><td>1984</td></tr>\n",
       "</tbody>\n",
       "</table>\n"
      ],
      "text/latex": [
       "A tibble: 6 × 9\n",
       "\\begin{tabular}{lllllllll}\n",
       " ...1 & Start Time & End Time & Trip Duration & Start Station & End Station & User Type & Gender & Birth Year\\\\\n",
       " <dbl> & <dttm> & <dttm> & <dbl> & <chr> & <chr> & <chr> & <chr> & <dbl>\\\\\n",
       "\\hline\n",
       "\t  935129 & 2017-05-23 17:08:04 & 2017-05-23 17:11:37 &  213 & Indiana Ave \\& 31st St         & MLK Jr Dr \\& 29th St          & Subscriber & Male   & 1988\\\\\n",
       "\t   64825 & 2017-01-21 13:18:00 & 2017-01-21 13:27:50 &  590 & Orleans St \\& Elm St (*)       & Sheffield Ave \\& Webster Ave  & Subscriber & Male   & 1965\\\\\n",
       "\t  695993 & 2017-04-28 19:32:19 & 2017-04-28 19:51:18 & 1139 & Ashland Ave \\& Blackhawk St    & Clark St \\& Elm St            & Customer   & NA     &   NA\\\\\n",
       "\t  159685 & 2017-02-12 09:59:01 & 2017-02-12 10:21:49 & 1368 & Ravenswood Ave \\& Lawrence Ave & Stockton Dr \\& Wrightwood Ave & Subscriber & Female & 1988\\\\\n",
       "\t  564681 & 2017-04-16 17:07:15 & 2017-04-16 17:19:00 &  705 & Sheffield Ave \\& Willow St     & Clark St \\& Chicago Ave       & Customer   & NA     &   NA\\\\\n",
       "\t 1021247 & 2017-05-30 12:38:28 & 2017-05-30 12:55:36 & 1028 & Wacker Dr \\& Washington St     & Damen Ave \\& Division St      & Subscriber & Male   & 1984\\\\\n",
       "\\end{tabular}\n"
      ],
      "text/markdown": [
       "\n",
       "A tibble: 6 × 9\n",
       "\n",
       "| ...1 &lt;dbl&gt; | Start Time &lt;dttm&gt; | End Time &lt;dttm&gt; | Trip Duration &lt;dbl&gt; | Start Station &lt;chr&gt; | End Station &lt;chr&gt; | User Type &lt;chr&gt; | Gender &lt;chr&gt; | Birth Year &lt;dbl&gt; |\n",
       "|---|---|---|---|---|---|---|---|---|\n",
       "|  935129 | 2017-05-23 17:08:04 | 2017-05-23 17:11:37 |  213 | Indiana Ave &amp; 31st St         | MLK Jr Dr &amp; 29th St          | Subscriber | Male   | 1988 |\n",
       "|   64825 | 2017-01-21 13:18:00 | 2017-01-21 13:27:50 |  590 | Orleans St &amp; Elm St (*)       | Sheffield Ave &amp; Webster Ave  | Subscriber | Male   | 1965 |\n",
       "|  695993 | 2017-04-28 19:32:19 | 2017-04-28 19:51:18 | 1139 | Ashland Ave &amp; Blackhawk St    | Clark St &amp; Elm St            | Customer   | NA     |   NA |\n",
       "|  159685 | 2017-02-12 09:59:01 | 2017-02-12 10:21:49 | 1368 | Ravenswood Ave &amp; Lawrence Ave | Stockton Dr &amp; Wrightwood Ave | Subscriber | Female | 1988 |\n",
       "|  564681 | 2017-04-16 17:07:15 | 2017-04-16 17:19:00 |  705 | Sheffield Ave &amp; Willow St     | Clark St &amp; Chicago Ave       | Customer   | NA     |   NA |\n",
       "| 1021247 | 2017-05-30 12:38:28 | 2017-05-30 12:55:36 | 1028 | Wacker Dr &amp; Washington St     | Damen Ave &amp; Division St      | Subscriber | Male   | 1984 |\n",
       "\n"
      ],
      "text/plain": [
       "  ...1    Start Time          End Time            Trip Duration\n",
       "1  935129 2017-05-23 17:08:04 2017-05-23 17:11:37  213         \n",
       "2   64825 2017-01-21 13:18:00 2017-01-21 13:27:50  590         \n",
       "3  695993 2017-04-28 19:32:19 2017-04-28 19:51:18 1139         \n",
       "4  159685 2017-02-12 09:59:01 2017-02-12 10:21:49 1368         \n",
       "5  564681 2017-04-16 17:07:15 2017-04-16 17:19:00  705         \n",
       "6 1021247 2017-05-30 12:38:28 2017-05-30 12:55:36 1028         \n",
       "  Start Station                 End Station                  User Type  Gender\n",
       "1 Indiana Ave & 31st St         MLK Jr Dr & 29th St          Subscriber Male  \n",
       "2 Orleans St & Elm St (*)       Sheffield Ave & Webster Ave  Subscriber Male  \n",
       "3 Ashland Ave & Blackhawk St    Clark St & Elm St            Customer   NA    \n",
       "4 Ravenswood Ave & Lawrence Ave Stockton Dr & Wrightwood Ave Subscriber Female\n",
       "5 Sheffield Ave & Willow St     Clark St & Chicago Ave       Customer   NA    \n",
       "6 Wacker Dr & Washington St     Damen Ave & Division St      Subscriber Male  \n",
       "  Birth Year\n",
       "1 1988      \n",
       "2 1965      \n",
       "3   NA      \n",
       "4 1988      \n",
       "5   NA      \n",
       "6 1984      "
      ]
     },
     "metadata": {},
     "output_type": "display_data"
    }
   ],
   "source": [
    "#Checking the last 6 rows of chi dataset\n",
    "tail(chi)"
   ]
  },
  {
   "cell_type": "code",
   "execution_count": 7,
   "id": "5724eb28-b138-4b24-9c15-824ad560264b",
   "metadata": {},
   "outputs": [
    {
     "data": {
      "text/html": [
       "<table class=\"dataframe\">\n",
       "<caption>A tibble: 6 × 7</caption>\n",
       "<thead>\n",
       "\t<tr><th scope=col>...1</th><th scope=col>Start Time</th><th scope=col>End Time</th><th scope=col>Trip Duration</th><th scope=col>Start Station</th><th scope=col>End Station</th><th scope=col>User Type</th></tr>\n",
       "\t<tr><th scope=col>&lt;dbl&gt;</th><th scope=col>&lt;dttm&gt;</th><th scope=col>&lt;dttm&gt;</th><th scope=col>&lt;dbl&gt;</th><th scope=col>&lt;chr&gt;</th><th scope=col>&lt;chr&gt;</th><th scope=col>&lt;chr&gt;</th></tr>\n",
       "</thead>\n",
       "<tbody>\n",
       "\t<tr><td> 101489</td><td>2017-01-20 14:03:00</td><td>2017-01-20 15:11:00</td><td>4086.828</td><td>Henry Bacon Dr &amp; Lincoln Memorial Circle NW</td><td><span style=white-space:pre-wrap>24th &amp; N St NW                      </span></td><td><span style=white-space:pre-wrap>Customer  </span></td></tr>\n",
       "\t<tr><td> 945535</td><td>2017-04-26 03:12:14</td><td>2017-04-26 03:41:19</td><td>1745.528</td><td><span style=white-space:pre-wrap>Lincoln Memorial                           </span></td><td><span style=white-space:pre-wrap>Jefferson Dr &amp; 14th St SW           </span></td><td><span style=white-space:pre-wrap>Customer  </span></td></tr>\n",
       "\t<tr><td>1495781</td><td>2017-06-11 09:48:52</td><td>2017-06-11 10:22:31</td><td>2018.450</td><td><span style=white-space:pre-wrap>Key Blvd &amp; N Quinn St                      </span></td><td><span style=white-space:pre-wrap>5th &amp; K St NW                       </span></td><td>Subscriber</td></tr>\n",
       "\t<tr><td><span style=white-space:pre-wrap>  12860</span></td><td>2017-01-04 14:33:00</td><td>2017-01-04 14:43:00</td><td> 583.897</td><td><span style=white-space:pre-wrap>17th &amp; K St NW / Farragut Square           </span></td><td><span style=white-space:pre-wrap>7th &amp; F St NW/Portrait Gallery      </span></td><td>Subscriber</td></tr>\n",
       "\t<tr><td> 977621</td><td>2017-04-28 07:17:47</td><td>2017-04-28 07:56:31</td><td>2324.170</td><td><span style=white-space:pre-wrap>Jefferson Dr &amp; 14th St SW                  </span></td><td>Washington &amp; Independence Ave SW/HHS</td><td><span style=white-space:pre-wrap>Customer  </span></td></tr>\n",
       "\t<tr><td>1553359</td><td>2017-06-16 04:08:16</td><td>2017-06-16 04:29:38</td><td>1281.459</td><td><span style=white-space:pre-wrap>10th &amp; Monroe St NE                        </span></td><td><span style=white-space:pre-wrap>3rd &amp; H St NW                       </span></td><td><span style=white-space:pre-wrap>Customer  </span></td></tr>\n",
       "</tbody>\n",
       "</table>\n"
      ],
      "text/latex": [
       "A tibble: 6 × 7\n",
       "\\begin{tabular}{lllllll}\n",
       " ...1 & Start Time & End Time & Trip Duration & Start Station & End Station & User Type\\\\\n",
       " <dbl> & <dttm> & <dttm> & <dbl> & <chr> & <chr> & <chr>\\\\\n",
       "\\hline\n",
       "\t  101489 & 2017-01-20 14:03:00 & 2017-01-20 15:11:00 & 4086.828 & Henry Bacon Dr \\& Lincoln Memorial Circle NW & 24th \\& N St NW                       & Customer  \\\\\n",
       "\t  945535 & 2017-04-26 03:12:14 & 2017-04-26 03:41:19 & 1745.528 & Lincoln Memorial                            & Jefferson Dr \\& 14th St SW            & Customer  \\\\\n",
       "\t 1495781 & 2017-06-11 09:48:52 & 2017-06-11 10:22:31 & 2018.450 & Key Blvd \\& N Quinn St                       & 5th \\& K St NW                        & Subscriber\\\\\n",
       "\t   12860 & 2017-01-04 14:33:00 & 2017-01-04 14:43:00 &  583.897 & 17th \\& K St NW / Farragut Square            & 7th \\& F St NW/Portrait Gallery       & Subscriber\\\\\n",
       "\t  977621 & 2017-04-28 07:17:47 & 2017-04-28 07:56:31 & 2324.170 & Jefferson Dr \\& 14th St SW                   & Washington \\& Independence Ave SW/HHS & Customer  \\\\\n",
       "\t 1553359 & 2017-06-16 04:08:16 & 2017-06-16 04:29:38 & 1281.459 & 10th \\& Monroe St NE                         & 3rd \\& H St NW                        & Customer  \\\\\n",
       "\\end{tabular}\n"
      ],
      "text/markdown": [
       "\n",
       "A tibble: 6 × 7\n",
       "\n",
       "| ...1 &lt;dbl&gt; | Start Time &lt;dttm&gt; | End Time &lt;dttm&gt; | Trip Duration &lt;dbl&gt; | Start Station &lt;chr&gt; | End Station &lt;chr&gt; | User Type &lt;chr&gt; |\n",
       "|---|---|---|---|---|---|---|\n",
       "|  101489 | 2017-01-20 14:03:00 | 2017-01-20 15:11:00 | 4086.828 | Henry Bacon Dr &amp; Lincoln Memorial Circle NW | 24th &amp; N St NW                       | Customer   |\n",
       "|  945535 | 2017-04-26 03:12:14 | 2017-04-26 03:41:19 | 1745.528 | Lincoln Memorial                            | Jefferson Dr &amp; 14th St SW            | Customer   |\n",
       "| 1495781 | 2017-06-11 09:48:52 | 2017-06-11 10:22:31 | 2018.450 | Key Blvd &amp; N Quinn St                       | 5th &amp; K St NW                        | Subscriber |\n",
       "|   12860 | 2017-01-04 14:33:00 | 2017-01-04 14:43:00 |  583.897 | 17th &amp; K St NW / Farragut Square            | 7th &amp; F St NW/Portrait Gallery       | Subscriber |\n",
       "|  977621 | 2017-04-28 07:17:47 | 2017-04-28 07:56:31 | 2324.170 | Jefferson Dr &amp; 14th St SW                   | Washington &amp; Independence Ave SW/HHS | Customer   |\n",
       "| 1553359 | 2017-06-16 04:08:16 | 2017-06-16 04:29:38 | 1281.459 | 10th &amp; Monroe St NE                         | 3rd &amp; H St NW                        | Customer   |\n",
       "\n"
      ],
      "text/plain": [
       "  ...1    Start Time          End Time            Trip Duration\n",
       "1  101489 2017-01-20 14:03:00 2017-01-20 15:11:00 4086.828     \n",
       "2  945535 2017-04-26 03:12:14 2017-04-26 03:41:19 1745.528     \n",
       "3 1495781 2017-06-11 09:48:52 2017-06-11 10:22:31 2018.450     \n",
       "4   12860 2017-01-04 14:33:00 2017-01-04 14:43:00  583.897     \n",
       "5  977621 2017-04-28 07:17:47 2017-04-28 07:56:31 2324.170     \n",
       "6 1553359 2017-06-16 04:08:16 2017-06-16 04:29:38 1281.459     \n",
       "  Start Station                              \n",
       "1 Henry Bacon Dr & Lincoln Memorial Circle NW\n",
       "2 Lincoln Memorial                           \n",
       "3 Key Blvd & N Quinn St                      \n",
       "4 17th & K St NW / Farragut Square           \n",
       "5 Jefferson Dr & 14th St SW                  \n",
       "6 10th & Monroe St NE                        \n",
       "  End Station                          User Type \n",
       "1 24th & N St NW                       Customer  \n",
       "2 Jefferson Dr & 14th St SW            Customer  \n",
       "3 5th & K St NW                        Subscriber\n",
       "4 7th & F St NW/Portrait Gallery       Subscriber\n",
       "5 Washington & Independence Ave SW/HHS Customer  \n",
       "6 3rd & H St NW                        Customer  "
      ]
     },
     "metadata": {},
     "output_type": "display_data"
    }
   ],
   "source": [
    "#Checking the last 6 rows of wash dataset\n",
    "tail(wash)"
   ]
  },
  {
   "cell_type": "code",
   "execution_count": 8,
   "id": "e03d90fb-77dd-43f0-a7ec-ef509bc40fe4",
   "metadata": {},
   "outputs": [
    {
     "data": {
      "text/html": [
       "<table class=\"dataframe\">\n",
       "<caption>A tibble: 6 × 9</caption>\n",
       "<thead>\n",
       "\t<tr><th scope=col>...1</th><th scope=col>Start Time</th><th scope=col>End Time</th><th scope=col>Trip Duration</th><th scope=col>Start Station</th><th scope=col>End Station</th><th scope=col>User Type</th><th scope=col>Gender</th><th scope=col>Birth Year</th></tr>\n",
       "\t<tr><th scope=col>&lt;dbl&gt;</th><th scope=col>&lt;dttm&gt;</th><th scope=col>&lt;dttm&gt;</th><th scope=col>&lt;dbl&gt;</th><th scope=col>&lt;chr&gt;</th><th scope=col>&lt;chr&gt;</th><th scope=col>&lt;chr&gt;</th><th scope=col>&lt;chr&gt;</th><th scope=col>&lt;dbl&gt;</th></tr>\n",
       "</thead>\n",
       "<tbody>\n",
       "\t<tr><td>4198848</td><td>2017-05-14 12:43:21</td><td>2017-05-14 12:57:51</td><td> 869</td><td>Cumberland St &amp; Lafayette Ave</td><td>Plaza St West &amp; Flatbush Ave</td><td>Subscriber</td><td>Female</td><td>1991</td></tr>\n",
       "\t<tr><td>3273600</td><td>2017-04-24 17:51:12</td><td>2017-04-24 17:59:28</td><td> 495</td><td><span style=white-space:pre-wrap>W 25 St &amp; 6 Ave              </span></td><td><span style=white-space:pre-wrap>W 38 St &amp; 8 Ave             </span></td><td>Subscriber</td><td><span style=white-space:pre-wrap>Male  </span></td><td>1977</td></tr>\n",
       "\t<tr><td>3418509</td><td>2017-04-28 12:02:29</td><td>2017-04-28 12:19:04</td><td> 994</td><td><span style=white-space:pre-wrap>W 27 St &amp; 7 Ave              </span></td><td><span style=white-space:pre-wrap>W 52 St &amp; 5 Ave             </span></td><td>Subscriber</td><td><span style=white-space:pre-wrap>Male  </span></td><td>1967</td></tr>\n",
       "\t<tr><td>5034995</td><td>2017-05-31 09:11:10</td><td>2017-05-31 09:24:16</td><td> 785</td><td><span style=white-space:pre-wrap>3 Ave &amp; E 72 St              </span></td><td><span style=white-space:pre-wrap>W 44 St &amp; 5 Ave             </span></td><td>Subscriber</td><td><span style=white-space:pre-wrap>Male  </span></td><td>1972</td></tr>\n",
       "\t<tr><td><span style=white-space:pre-wrap>  78227</span></td><td>2017-01-05 08:31:37</td><td>2017-01-05 08:51:01</td><td>1164</td><td><span style=white-space:pre-wrap>Columbia St &amp; Kane St        </span></td><td><span style=white-space:pre-wrap>Barclay St &amp; Church St      </span></td><td>Subscriber</td><td><span style=white-space:pre-wrap>Male  </span></td><td>1964</td></tr>\n",
       "\t<tr><td>2554332</td><td>2017-04-09 17:46:51</td><td>2017-04-09 18:06:40</td><td>1189</td><td><span style=white-space:pre-wrap>Division St &amp; Bowery         </span></td><td><span style=white-space:pre-wrap>Lafayette St &amp; Jersey St    </span></td><td>Subscriber</td><td>Female</td><td>1985</td></tr>\n",
       "</tbody>\n",
       "</table>\n"
      ],
      "text/latex": [
       "A tibble: 6 × 9\n",
       "\\begin{tabular}{lllllllll}\n",
       " ...1 & Start Time & End Time & Trip Duration & Start Station & End Station & User Type & Gender & Birth Year\\\\\n",
       " <dbl> & <dttm> & <dttm> & <dbl> & <chr> & <chr> & <chr> & <chr> & <dbl>\\\\\n",
       "\\hline\n",
       "\t 4198848 & 2017-05-14 12:43:21 & 2017-05-14 12:57:51 &  869 & Cumberland St \\& Lafayette Ave & Plaza St West \\& Flatbush Ave & Subscriber & Female & 1991\\\\\n",
       "\t 3273600 & 2017-04-24 17:51:12 & 2017-04-24 17:59:28 &  495 & W 25 St \\& 6 Ave               & W 38 St \\& 8 Ave              & Subscriber & Male   & 1977\\\\\n",
       "\t 3418509 & 2017-04-28 12:02:29 & 2017-04-28 12:19:04 &  994 & W 27 St \\& 7 Ave               & W 52 St \\& 5 Ave              & Subscriber & Male   & 1967\\\\\n",
       "\t 5034995 & 2017-05-31 09:11:10 & 2017-05-31 09:24:16 &  785 & 3 Ave \\& E 72 St               & W 44 St \\& 5 Ave              & Subscriber & Male   & 1972\\\\\n",
       "\t   78227 & 2017-01-05 08:31:37 & 2017-01-05 08:51:01 & 1164 & Columbia St \\& Kane St         & Barclay St \\& Church St       & Subscriber & Male   & 1964\\\\\n",
       "\t 2554332 & 2017-04-09 17:46:51 & 2017-04-09 18:06:40 & 1189 & Division St \\& Bowery          & Lafayette St \\& Jersey St     & Subscriber & Female & 1985\\\\\n",
       "\\end{tabular}\n"
      ],
      "text/markdown": [
       "\n",
       "A tibble: 6 × 9\n",
       "\n",
       "| ...1 &lt;dbl&gt; | Start Time &lt;dttm&gt; | End Time &lt;dttm&gt; | Trip Duration &lt;dbl&gt; | Start Station &lt;chr&gt; | End Station &lt;chr&gt; | User Type &lt;chr&gt; | Gender &lt;chr&gt; | Birth Year &lt;dbl&gt; |\n",
       "|---|---|---|---|---|---|---|---|---|\n",
       "| 4198848 | 2017-05-14 12:43:21 | 2017-05-14 12:57:51 |  869 | Cumberland St &amp; Lafayette Ave | Plaza St West &amp; Flatbush Ave | Subscriber | Female | 1991 |\n",
       "| 3273600 | 2017-04-24 17:51:12 | 2017-04-24 17:59:28 |  495 | W 25 St &amp; 6 Ave               | W 38 St &amp; 8 Ave              | Subscriber | Male   | 1977 |\n",
       "| 3418509 | 2017-04-28 12:02:29 | 2017-04-28 12:19:04 |  994 | W 27 St &amp; 7 Ave               | W 52 St &amp; 5 Ave              | Subscriber | Male   | 1967 |\n",
       "| 5034995 | 2017-05-31 09:11:10 | 2017-05-31 09:24:16 |  785 | 3 Ave &amp; E 72 St               | W 44 St &amp; 5 Ave              | Subscriber | Male   | 1972 |\n",
       "|   78227 | 2017-01-05 08:31:37 | 2017-01-05 08:51:01 | 1164 | Columbia St &amp; Kane St         | Barclay St &amp; Church St       | Subscriber | Male   | 1964 |\n",
       "| 2554332 | 2017-04-09 17:46:51 | 2017-04-09 18:06:40 | 1189 | Division St &amp; Bowery          | Lafayette St &amp; Jersey St     | Subscriber | Female | 1985 |\n",
       "\n"
      ],
      "text/plain": [
       "  ...1    Start Time          End Time            Trip Duration\n",
       "1 4198848 2017-05-14 12:43:21 2017-05-14 12:57:51  869         \n",
       "2 3273600 2017-04-24 17:51:12 2017-04-24 17:59:28  495         \n",
       "3 3418509 2017-04-28 12:02:29 2017-04-28 12:19:04  994         \n",
       "4 5034995 2017-05-31 09:11:10 2017-05-31 09:24:16  785         \n",
       "5   78227 2017-01-05 08:31:37 2017-01-05 08:51:01 1164         \n",
       "6 2554332 2017-04-09 17:46:51 2017-04-09 18:06:40 1189         \n",
       "  Start Station                 End Station                  User Type  Gender\n",
       "1 Cumberland St & Lafayette Ave Plaza St West & Flatbush Ave Subscriber Female\n",
       "2 W 25 St & 6 Ave               W 38 St & 8 Ave              Subscriber Male  \n",
       "3 W 27 St & 7 Ave               W 52 St & 5 Ave              Subscriber Male  \n",
       "4 3 Ave & E 72 St               W 44 St & 5 Ave              Subscriber Male  \n",
       "5 Columbia St & Kane St         Barclay St & Church St       Subscriber Male  \n",
       "6 Division St & Bowery          Lafayette St & Jersey St     Subscriber Female\n",
       "  Birth Year\n",
       "1 1991      \n",
       "2 1977      \n",
       "3 1967      \n",
       "4 1972      \n",
       "5 1964      \n",
       "6 1985      "
      ]
     },
     "metadata": {},
     "output_type": "display_data"
    }
   ],
   "source": [
    "#Checking the last 6 rows of ny dataset\n",
    "tail(ny)"
   ]
  },
  {
   "cell_type": "code",
   "execution_count": 9,
   "id": "81e517b8-3116-4268-bdcc-e9e137fdbe95",
   "metadata": {},
   "outputs": [
    {
     "data": {
      "text/html": [
       "9"
      ],
      "text/latex": [
       "9"
      ],
      "text/markdown": [
       "9"
      ],
      "text/plain": [
       "[1] 9"
      ]
     },
     "metadata": {},
     "output_type": "display_data"
    },
    {
     "data": {
      "text/html": [
       "<style>\n",
       ".list-inline {list-style: none; margin:0; padding: 0}\n",
       ".list-inline>li {display: inline-block}\n",
       ".list-inline>li:not(:last-child)::after {content: \"\\00b7\"; padding: 0 .5ex}\n",
       "</style>\n",
       "<ol class=list-inline><li>'...1'</li><li>'Start Time'</li><li>'End Time'</li><li>'Trip Duration'</li><li>'Start Station'</li><li>'End Station'</li><li>'User Type'</li><li>'Gender'</li><li>'Birth Year'</li></ol>\n"
      ],
      "text/latex": [
       "\\begin{enumerate*}\n",
       "\\item '...1'\n",
       "\\item 'Start Time'\n",
       "\\item 'End Time'\n",
       "\\item 'Trip Duration'\n",
       "\\item 'Start Station'\n",
       "\\item 'End Station'\n",
       "\\item 'User Type'\n",
       "\\item 'Gender'\n",
       "\\item 'Birth Year'\n",
       "\\end{enumerate*}\n"
      ],
      "text/markdown": [
       "1. '...1'\n",
       "2. 'Start Time'\n",
       "3. 'End Time'\n",
       "4. 'Trip Duration'\n",
       "5. 'Start Station'\n",
       "6. 'End Station'\n",
       "7. 'User Type'\n",
       "8. 'Gender'\n",
       "9. 'Birth Year'\n",
       "\n",
       "\n"
      ],
      "text/plain": [
       "[1] \"...1\"          \"Start Time\"    \"End Time\"      \"Trip Duration\"\n",
       "[5] \"Start Station\" \"End Station\"   \"User Type\"     \"Gender\"       \n",
       "[9] \"Birth Year\"   "
      ]
     },
     "metadata": {},
     "output_type": "display_data"
    }
   ],
   "source": [
    "#Checking the number of Columns of ny Dataset\n",
    "ncol(ny)\n",
    "#Checking the Columns Names of ny Dataset\n",
    "colnames(ny)"
   ]
  },
  {
   "cell_type": "code",
   "execution_count": 10,
   "id": "63946031-531a-486e-8df2-4f0c2ec1af15",
   "metadata": {},
   "outputs": [
    {
     "data": {
      "text/html": [
       "9"
      ],
      "text/latex": [
       "9"
      ],
      "text/markdown": [
       "9"
      ],
      "text/plain": [
       "[1] 9"
      ]
     },
     "metadata": {},
     "output_type": "display_data"
    },
    {
     "data": {
      "text/html": [
       "<style>\n",
       ".list-inline {list-style: none; margin:0; padding: 0}\n",
       ".list-inline>li {display: inline-block}\n",
       ".list-inline>li:not(:last-child)::after {content: \"\\00b7\"; padding: 0 .5ex}\n",
       "</style>\n",
       "<ol class=list-inline><li>'...1'</li><li>'Start Time'</li><li>'End Time'</li><li>'Trip Duration'</li><li>'Start Station'</li><li>'End Station'</li><li>'User Type'</li><li>'Gender'</li><li>'Birth Year'</li></ol>\n"
      ],
      "text/latex": [
       "\\begin{enumerate*}\n",
       "\\item '...1'\n",
       "\\item 'Start Time'\n",
       "\\item 'End Time'\n",
       "\\item 'Trip Duration'\n",
       "\\item 'Start Station'\n",
       "\\item 'End Station'\n",
       "\\item 'User Type'\n",
       "\\item 'Gender'\n",
       "\\item 'Birth Year'\n",
       "\\end{enumerate*}\n"
      ],
      "text/markdown": [
       "1. '...1'\n",
       "2. 'Start Time'\n",
       "3. 'End Time'\n",
       "4. 'Trip Duration'\n",
       "5. 'Start Station'\n",
       "6. 'End Station'\n",
       "7. 'User Type'\n",
       "8. 'Gender'\n",
       "9. 'Birth Year'\n",
       "\n",
       "\n"
      ],
      "text/plain": [
       "[1] \"...1\"          \"Start Time\"    \"End Time\"      \"Trip Duration\"\n",
       "[5] \"Start Station\" \"End Station\"   \"User Type\"     \"Gender\"       \n",
       "[9] \"Birth Year\"   "
      ]
     },
     "metadata": {},
     "output_type": "display_data"
    }
   ],
   "source": [
    "#Checking the number of Columns of chi Dataset\n",
    "ncol(chi)\n",
    "#Checking the Columns Names of chi Dataset\n",
    "colnames(chi)"
   ]
  },
  {
   "cell_type": "code",
   "execution_count": 11,
   "id": "9de74bed-65d5-404b-b762-921152304f64",
   "metadata": {},
   "outputs": [
    {
     "data": {
      "text/html": [
       "7"
      ],
      "text/latex": [
       "7"
      ],
      "text/markdown": [
       "7"
      ],
      "text/plain": [
       "[1] 7"
      ]
     },
     "metadata": {},
     "output_type": "display_data"
    },
    {
     "data": {
      "text/html": [
       "<style>\n",
       ".list-inline {list-style: none; margin:0; padding: 0}\n",
       ".list-inline>li {display: inline-block}\n",
       ".list-inline>li:not(:last-child)::after {content: \"\\00b7\"; padding: 0 .5ex}\n",
       "</style>\n",
       "<ol class=list-inline><li>'...1'</li><li>'Start Time'</li><li>'End Time'</li><li>'Trip Duration'</li><li>'Start Station'</li><li>'End Station'</li><li>'User Type'</li></ol>\n"
      ],
      "text/latex": [
       "\\begin{enumerate*}\n",
       "\\item '...1'\n",
       "\\item 'Start Time'\n",
       "\\item 'End Time'\n",
       "\\item 'Trip Duration'\n",
       "\\item 'Start Station'\n",
       "\\item 'End Station'\n",
       "\\item 'User Type'\n",
       "\\end{enumerate*}\n"
      ],
      "text/markdown": [
       "1. '...1'\n",
       "2. 'Start Time'\n",
       "3. 'End Time'\n",
       "4. 'Trip Duration'\n",
       "5. 'Start Station'\n",
       "6. 'End Station'\n",
       "7. 'User Type'\n",
       "\n",
       "\n"
      ],
      "text/plain": [
       "[1] \"...1\"          \"Start Time\"    \"End Time\"      \"Trip Duration\"\n",
       "[5] \"Start Station\" \"End Station\"   \"User Type\"    "
      ]
     },
     "metadata": {},
     "output_type": "display_data"
    }
   ],
   "source": [
    "#Checking the number of Columns of wash Dataset\n",
    "ncol(wash)\n",
    "#Checking the Columns Names of wash Dataset\n",
    "colnames(wash)"
   ]
  },
  {
   "cell_type": "markdown",
   "id": "b812d02f-6629-43b0-baee-129ee0c4d7b9",
   "metadata": {},
   "source": [
    "**We can see that Wash dataset doesn't have the Gender and Birth Year Column**"
   ]
  },
  {
   "cell_type": "markdown",
   "id": "157ebdd4-fe9e-4144-9365-252d06f3ae3c",
   "metadata": {},
   "source": [
    "### Q1-1 Popular times of travel (i.e., occurs most often in the start time) <br>\n",
    "**What is the most common month for NewYork?.** <br>\n",
    "**What is the most common day of week for NewYork?.** <br>\n",
    "**What is the most common hour of day for NewYork?.**\n",
    "\n"
   ]
  },
  {
   "cell_type": "code",
   "execution_count": 12,
   "id": "3d67f5ca-e377-4e06-83ec-ca0b4b2ce5ae",
   "metadata": {},
   "outputs": [
    {
     "name": "stderr",
     "output_type": "stream",
     "text": [
      "\n",
      "Attaching package: 'dplyr'\n",
      "\n",
      "\n",
      "The following objects are masked from 'package:stats':\n",
      "\n",
      "    filter, lag\n",
      "\n",
      "\n",
      "The following objects are masked from 'package:base':\n",
      "\n",
      "    intersect, setdiff, setequal, union\n",
      "\n",
      "\n",
      "\n",
      "Attaching package: 'lubridate'\n",
      "\n",
      "\n",
      "The following objects are masked from 'package:base':\n",
      "\n",
      "    date, intersect, setdiff, union\n",
      "\n",
      "\n"
     ]
    },
    {
     "name": "stdout",
     "output_type": "stream",
     "text": [
      "Most common month in New York:\n",
      "\u001b[90m# A tibble: 1 × 2\u001b[39m\n",
      "  month     n\n",
      "  \u001b[3m\u001b[90m<ord>\u001b[39m\u001b[23m \u001b[3m\u001b[90m<int>\u001b[39m\u001b[23m\n",
      "\u001b[90m1\u001b[39m Jun   \u001b[4m7\u001b[24m\u001b[4m6\u001b[24m022\n",
      "\n",
      "Most common day of the week in New York:\n",
      "\u001b[90m# A tibble: 1 × 2\u001b[39m\n",
      "  day_of_week     n\n",
      "  \u001b[3m\u001b[90m<ord>\u001b[39m\u001b[23m       \u001b[3m\u001b[90m<int>\u001b[39m\u001b[23m\n",
      "\u001b[90m1\u001b[39m Wed         \u001b[4m5\u001b[24m\u001b[4m2\u001b[24m087\n"
     ]
    },
    {
     "data": {
      "image/png": "[encoded data removed]",
      "text/plain": [
       "plot without title"
      ]
     },
     "metadata": {
      "image/png": {
       "height": 420,
       "width": 420
      }
     },
     "output_type": "display_data"
    },
    {
     "name": "stdout",
     "output_type": "stream",
     "text": [
      "\n",
      "Most common hour of the day in New York:\n",
      "\u001b[90m# A tibble: 1 × 2\u001b[39m\n",
      "   hour     n\n",
      "  \u001b[3m\u001b[90m<int>\u001b[39m\u001b[23m \u001b[3m\u001b[90m<int>\u001b[39m\u001b[23m\n",
      "\u001b[90m1\u001b[39m    17 \u001b[4m3\u001b[24m\u001b[4m0\u001b[24m041\n"
     ]
    },
    {
     "data": {
      "image/png": "[encoded data removed]",
      "text/plain": [
       "plot without title"
      ]
     },
     "metadata": {
      "image/png": {
       "height": 420,
       "width": 420
      }
     },
     "output_type": "display_data"
    },
    {
     "data": {
      "image/png": "[encoded data removed]",
      "text/plain": [
       "plot without title"
      ]
     },
     "metadata": {
      "image/png": {
       "height": 420,
       "width": 420
      }
     },
     "output_type": "display_data"
    }
   ],
   "source": [
    "# Load necessary libraries\n",
    "library(dplyr)\n",
    "library(lubridate)\n",
    "library(ggplot2)\n",
    "\n",
    "# Ensure the column name is referenced correctly and extract time components\n",
    "ny <- ny %>%\n",
    "  mutate(\n",
    "    month = month(`Start Time`, label = TRUE),       # Extracting month\n",
    "    day_of_week = wday(`Start Time`, label = TRUE),  # Extracting day of the week\n",
    "    hour = hour(`Start Time`)                        # Extracting hour\n",
    "  )\n",
    "\n",
    "# 1. Most common month\n",
    "most_common_month <- ny %>%\n",
    "  count(month) %>%\n",
    "  arrange(desc(n))\n",
    "\n",
    "cat(\"Most common month in New York:\\n\")\n",
    "print(most_common_month[1, ])\n",
    "\n",
    "# Visualization for most common month\n",
    "ggplot(most_common_month, aes(x = month, y = n, fill = month)) +\n",
    "  geom_bar(stat = \"identity\") +\n",
    "  labs(title = \"Most Common Month for Bike Trips in New York\", x = \"Month\", y = \"Number of Trips\") +\n",
    "  theme_minimal()\n",
    "\n",
    "# 2. Most common day of the week\n",
    "most_common_day <- ny %>%\n",
    "  count(day_of_week) %>%\n",
    "  arrange(desc(n))\n",
    "\n",
    "cat(\"\\nMost common day of the week in New York:\\n\")\n",
    "print(most_common_day[1, ])\n",
    "\n",
    "# Visualization for most common day of the week\n",
    "ggplot(most_common_day, aes(x = day_of_week, y = n, fill = day_of_week)) +\n",
    "  geom_bar(stat = \"identity\") +\n",
    "  labs(title = \"Most Common Day of the Week for Bike Trips in New York\", x = \"Day of the Week\", y = \"Number of Trips\") +\n",
    "  theme_minimal()\n",
    "\n",
    "# 3. Most common hour of the day\n",
    "most_common_hour <- ny %>%\n",
    "  count(hour) %>%\n",
    "  arrange(desc(n))\n",
    "\n",
    "cat(\"\\nMost common hour of the day in New York:\\n\")\n",
    "print(most_common_hour[1, ])\n",
    "\n",
    "# Visualization for most common hour of the day\n",
    "ggplot(most_common_hour, aes(x = hour, y = n)) +\n",
    "  geom_bar(stat = \"identity\", fill = \"steelblue\") +\n",
    "  labs(title = \"Most Common Hour of the Day for Bike Trips in New York\", x = \"Hour of the Day\", y = \"Number of Trips\") +\n",
    "  theme_minimal()\n"
   ]
  },
  {
   "cell_type": "markdown",
   "id": "f450f519-9439-4548-8d88-4ab7cab828f2",
   "metadata": {},
   "source": [
    "**We Can See that June had the highest number of bike trips in New York, with a total of 76,022 trips** <br>\n",
    "**We Can see that Wednesday was the most popular day for bike trips in New York, with a total of 52,087 trips** <br>\n",
    "**We Can see that 5 PM was the busiest hour for bike trips in New York, with a total of 30,041 trips**"
   ]
  },
  {
   "cell_type": "markdown",
   "id": "7f1115e1-a0d4-4ba2-84fa-ff3fa5d0f8a6",
   "metadata": {},
   "source": [
    "### Q1-2 Popular times of travel (i.e., occurs most often in the start time) <br>\n",
    "**What is the most common month for Washington?**  <br>\n",
    "**What is the most common day of week for Washington?.**  <br>\n",
    "**What is the most common hour of day for Washigton?.** "
   ]
  },
  {
   "cell_type": "code",
   "execution_count": 20,
   "id": "7c2f482f-16be-4b61-b341-5654fbc8f7c8",
   "metadata": {},
   "outputs": [
    {
     "name": "stdout",
     "output_type": "stream",
     "text": [
      "Most common month in Washington:\n",
      "\u001b[90m# A tibble: 1 × 2\u001b[39m\n",
      "  month     n\n",
      "  \u001b[3m\u001b[90m<ord>\u001b[39m\u001b[23m \u001b[3m\u001b[90m<int>\u001b[39m\u001b[23m\n",
      "\u001b[90m1\u001b[39m Jun   \u001b[4m6\u001b[24m\u001b[4m8\u001b[24m339\n",
      "\n",
      "Most common day of the week in Washington:\n",
      "\u001b[90m# A tibble: 1 × 2\u001b[39m\n",
      "  day_of_week     n\n",
      "  \u001b[3m\u001b[90m<ord>\u001b[39m\u001b[23m       \u001b[3m\u001b[90m<int>\u001b[39m\u001b[23m\n",
      "\u001b[90m1\u001b[39m Wed         \u001b[4m4\u001b[24m\u001b[4m8\u001b[24m156\n"
     ]
    },
    {
     "data": {
      "image/png": "[encoded data removed]",
      "text/plain": [
       "plot without title"
      ]
     },
     "metadata": {
      "image/png": {
       "height": 420,
       "width": 420
      }
     },
     "output_type": "display_data"
    },
    {
     "name": "stdout",
     "output_type": "stream",
     "text": [
      "\n",
      "Most common hour of the day in Washington:\n",
      "\u001b[90m# A tibble: 1 × 2\u001b[39m\n",
      "   hour     n\n",
      "  \u001b[3m\u001b[90m<int>\u001b[39m\u001b[23m \u001b[3m\u001b[90m<int>\u001b[39m\u001b[23m\n",
      "\u001b[90m1\u001b[39m     8 \u001b[4m3\u001b[24m\u001b[4m3\u001b[24m019\n"
     ]
    },
    {
     "data": {
      "image/png": "[encoded data removed]",
      "text/plain": [
       "plot without title"
      ]
     },
     "metadata": {
      "image/png": {
       "height": 420,
       "width": 420
      }
     },
     "output_type": "display_data"
    },
    {
     "data": {
      "image/png": "[encoded data removed]",
      "text/plain": [
       "plot without title"
      ]
     },
     "metadata": {
      "image/png": {
       "height": 420,
       "width": 420
      }
     },
     "output_type": "display_data"
    }
   ],
   "source": [
    "# Load necessary libraries\n",
    "library(dplyr)\n",
    "library(lubridate)\n",
    "library(ggplot2)\n",
    "\n",
    "# Ensure the column name is referenced correctly and extract time components\n",
    "wash <- wash %>%\n",
    "  mutate(\n",
    "    month = month(`Start Time`, label = TRUE),       # Extracting month\n",
    "    day_of_week = wday(`Start Time`, label = TRUE),  # Extracting day of the week\n",
    "    hour = hour(`Start Time`)                        # Extracting hour\n",
    "  )\n",
    "\n",
    "# 1. Most common month\n",
    "most_common_month <- wash %>%\n",
    "  count(month) %>%\n",
    "  arrange(desc(n))\n",
    "\n",
    "cat(\"Most common month in Washington:\\n\")\n",
    "print(most_common_month[1, ])\n",
    "\n",
    "# Visualization for most common month\n",
    "ggplot(most_common_month, aes(x = month, y = n, fill = month)) +\n",
    "  geom_bar(stat = \"identity\") +\n",
    "  labs(title = \"Most Common Month for Bike Trips in Washington\", x = \"Month\", y = \"Number of Trips\") +\n",
    "  theme_minimal()\n",
    "\n",
    "# 2. Most common day of the week\n",
    "most_common_day <- wash %>%\n",
    "  count(day_of_week) %>%\n",
    "  arrange(desc(n))\n",
    "\n",
    "cat(\"\\nMost common day of the week in Washington:\\n\")\n",
    "print(most_common_day[1, ])\n",
    "\n",
    "# Visualization for most common day of the week\n",
    "ggplot(most_common_day, aes(x = day_of_week, y = n, fill = day_of_week)) +\n",
    "  geom_bar(stat = \"identity\") +\n",
    "  labs(title = \"Most Common Day of the Week for Bike Trips in Washington\", x = \"Day of the Week\", y = \"Number of Trips\") +\n",
    "  theme_minimal()\n",
    "\n",
    "# 3. Most common hour of the day\n",
    "most_common_hour <- wash %>%\n",
    "  count(hour) %>%\n",
    "  arrange(desc(n))\n",
    "\n",
    "cat(\"\\nMost common hour of the day in Washington:\\n\")\n",
    "print(most_common_hour[1, ])\n",
    "\n",
    "# Visualization for most common hour of the day\n",
    "ggplot(most_common_hour, aes(x = hour, y = n)) +\n",
    "  geom_bar(stat = \"identity\", fill = \"steelblue\") +\n",
    "  labs(title = \"Most Common Hour of the Day for Bike Trips in Washington\", x = \"Hour of the Day\", y = \"Number of Trips\") +\n",
    "  theme_minimal()\n"
   ]
  },
  {
   "cell_type": "markdown",
   "id": "56f45141-ff17-494d-b4bd-627cf378bde3",
   "metadata": {},
   "source": [
    "**We Can See that June had the highest number of bike trips in Washington, with a total of 68,339 trips** <br>\n",
    "**We Can see that Wednesday was the most popular day for bike trips in Washington, with a total of 48,156 trips** <br>\n",
    "**We Can see that 8 AM was the busiest hour for bike trips in Washington, with a total of 33,019 trips**"
   ]
  },
  {
   "cell_type": "markdown",
   "id": "697de5ba-8e07-4bf3-ad59-7c3014563d6e",
   "metadata": {},
   "source": [
    "### Q1-3 Popular times of travel (i.e., occurs most often in the start time) <br>\n",
    "**What is the most common month for Chicago?** <br>\n",
    "**What is the most common day of week for Chicago?.** <br>\n",
    "**What is the most common hour of day for Chicago?.**"
   ]
  },
  {
   "cell_type": "code",
   "execution_count": 21,
   "id": "615b218e-3208-4b8f-89c1-aecf364fe7b3",
   "metadata": {},
   "outputs": [
    {
     "name": "stdout",
     "output_type": "stream",
     "text": [
      "Most common month in Chicago:\n",
      "\u001b[90m# A tibble: 1 × 2\u001b[39m\n",
      "  month     n\n",
      "  \u001b[3m\u001b[90m<ord>\u001b[39m\u001b[23m \u001b[3m\u001b[90m<int>\u001b[39m\u001b[23m\n",
      "\u001b[90m1\u001b[39m Jun   \u001b[4m9\u001b[24m\u001b[4m8\u001b[24m081\n",
      "\n",
      "Most common day of the week in Chicago:\n",
      "\u001b[90m# A tibble: 1 × 2\u001b[39m\n",
      "  day_of_week     n\n",
      "  \u001b[3m\u001b[90m<ord>\u001b[39m\u001b[23m       \u001b[3m\u001b[90m<int>\u001b[39m\u001b[23m\n",
      "\u001b[90m1\u001b[39m Tue         \u001b[4m4\u001b[24m\u001b[4m5\u001b[24m912\n"
     ]
    },
    {
     "data": {
      "image/png": "[encoded data removed]",
      "text/plain": [
       "plot without title"
      ]
     },
     "metadata": {
      "image/png": {
       "height": 420,
       "width": 420
      }
     },
     "output_type": "display_data"
    },
    {
     "name": "stdout",
     "output_type": "stream",
     "text": [
      "\n",
      "Most common hour of the day in Chicago:\n",
      "\u001b[90m# A tibble: 1 × 2\u001b[39m\n",
      "   hour     n\n",
      "  \u001b[3m\u001b[90m<int>\u001b[39m\u001b[23m \u001b[3m\u001b[90m<int>\u001b[39m\u001b[23m\n",
      "\u001b[90m1\u001b[39m    17 \u001b[4m3\u001b[24m\u001b[4m5\u001b[24m992\n"
     ]
    },
    {
     "data": {
      "image/png": "[encoded data removed]",
      "text/plain": [
       "plot without title"
      ]
     },
     "metadata": {
      "image/png": {
       "height": 420,
       "width": 420
      }
     },
     "output_type": "display_data"
    },
    {
     "data": {
      "image/png": "[encoded data removed]",
      "text/plain": [
       "plot without title"
      ]
     },
     "metadata": {
      "image/png": {
       "height": 420,
       "width": 420
      }
     },
     "output_type": "display_data"
    }
   ],
   "source": [
    "# Load necessary libraries\n",
    "library(dplyr)\n",
    "library(lubridate)\n",
    "library(ggplot2)\n",
    "\n",
    "# Ensure the column name is referenced correctly and extract time components\n",
    "chi <- chi %>%\n",
    "  mutate(\n",
    "    month = month(`Start Time`, label = TRUE),       # Extracting month\n",
    "    day_of_week = wday(`Start Time`, label = TRUE),  # Extracting day of the week\n",
    "    hour = hour(`Start Time`)                        # Extracting hour\n",
    "  )\n",
    "\n",
    "# 1. Most common month\n",
    "most_common_month <- chi %>%\n",
    "  count(month) %>%\n",
    "  arrange(desc(n))\n",
    "\n",
    "cat(\"Most common month in Chicago:\\n\")\n",
    "print(most_common_month[1, ])\n",
    "\n",
    "# Visualization for most common month\n",
    "ggplot(most_common_month, aes(x = month, y = n, fill = month)) +\n",
    "  geom_bar(stat = \"identity\") +\n",
    "  labs(title = \"Most Common Month for Bike Trips in Chicago\", x = \"Month\", y = \"Number of Trips\") +\n",
    "  theme_minimal()\n",
    "\n",
    "# 2. Most common day of the week\n",
    "most_common_day <- chi %>%\n",
    "  count(day_of_week) %>%\n",
    "  arrange(desc(n))\n",
    "\n",
    "cat(\"\\nMost common day of the week in Chicago:\\n\")\n",
    "print(most_common_day[1, ])\n",
    "\n",
    "# Visualization for most common day of the week\n",
    "ggplot(most_common_day, aes(x = day_of_week, y = n, fill = day_of_week)) +\n",
    "  geom_bar(stat = \"identity\") +\n",
    "  labs(title = \"Most Common Day of the Week for Bike Trips in Chicago\", x = \"Day of the Week\", y = \"Number of Trips\") +\n",
    "  theme_minimal()\n",
    "\n",
    "# 3. Most common hour of the day\n",
    "most_common_hour <- chi %>%\n",
    "  count(hour) %>%\n",
    "  arrange(desc(n))\n",
    "\n",
    "cat(\"\\nMost common hour of the day in Chicago:\\n\")\n",
    "print(most_common_hour[1, ])\n",
    "\n",
    "# Visualization for most common hour of the day\n",
    "ggplot(most_common_hour, aes(x = hour, y = n)) +\n",
    "  geom_bar(stat = \"identity\", fill = \"steelblue\") +\n",
    "  labs(title = \"Most Common Hour of the Day for Bike Trips in Chicago\", x = \"Hour of the Day\", y = \"Number of Trips\") +\n",
    "  theme_minimal()\n"
   ]
  },
  {
   "cell_type": "markdown",
   "id": "b55ecd14-ed3f-4e7e-a6ac-42324b89ebe2",
   "metadata": {},
   "source": [
    "**We Can See that June had the highest number of bike trips in Chicago, with a total of 98,081 trips** <br>\n",
    "**We Can see that Tuesday was the most popular day for bike trips in Chicago, with a total of 45,912 trips** <br>\n",
    "**We Can see that 5 PM was the busiest hour for bike trips in Chicago, with a total of 35,992 trips**"
   ]
  },
  {
   "cell_type": "markdown",
   "id": "1a8c550a-12b4-4be5-8ccb-95010ed85103",
   "metadata": {},
   "source": [
    "### Question 2-1\n",
    "#2 Popular stations and trip <br>\n",
    "**What is the most common start station for NewYork?** <br>\n",
    "**What is the most common end station for NewYork?** <br>\n",
    "**What is the most common trip from start to end for NewYork (i.e., most frequent combination of start station and end station)?**\n"
   ]
  },
  {
   "cell_type": "code",
   "execution_count": 31,
   "id": "047499ea-bf4f-4806-937b-b99b72618766",
   "metadata": {},
   "outputs": [
    {
     "name": "stdout",
     "output_type": "stream",
     "text": [
      "Most common start station in New York:\n",
      "\u001b[90m# A tibble: 1 × 2\u001b[39m\n",
      "  `Start Station`           n\n",
      "  \u001b[3m\u001b[90m<chr>\u001b[39m\u001b[23m                 \u001b[3m\u001b[90m<int>\u001b[39m\u001b[23m\n",
      "\u001b[90m1\u001b[39m Pershing Square North  \u001b[4m3\u001b[24m069\n",
      "\n",
      "Most common end station in New York:\n",
      "\u001b[90m# A tibble: 1 × 2\u001b[39m\n",
      "  `End Station`             n\n",
      "  \u001b[3m\u001b[90m<chr>\u001b[39m\u001b[23m                 \u001b[3m\u001b[90m<int>\u001b[39m\u001b[23m\n",
      "\u001b[90m1\u001b[39m Pershing Square North  \u001b[4m3\u001b[24m077\n"
     ]
    },
    {
     "data": {
      "image/png": "[encoded data removed]",
      "text/plain": [
       "plot without title"
      ]
     },
     "metadata": {
      "image/png": {
       "height": 420,
       "width": 420
      }
     },
     "output_type": "display_data"
    },
    {
     "name": "stdout",
     "output_type": "stream",
     "text": [
      "\n",
      "Most common trip in New York:\n",
      "\u001b[90m# A tibble: 1 × 2\u001b[39m\n",
      "  trip                                            n\n",
      "  \u001b[3m\u001b[90m<chr>\u001b[39m\u001b[23m                                       \u001b[3m\u001b[90m<int>\u001b[39m\u001b[23m\n",
      "\u001b[90m1\u001b[39m E 7 St & Avenue A to Cooper Square & E 7 St   168\n"
     ]
    },
    {
     "data": {
      "image/png": "[encoded data removed]",
      "text/plain": [
       "plot without title"
      ]
     },
     "metadata": {
      "image/png": {
       "height": 420,
       "width": 420
      }
     },
     "output_type": "display_data"
    },
    {
     "data": {
      "image/png": "[encoded data removed]",
      "text/plain": [
       "plot without title"
      ]
     },
     "metadata": {
      "image/png": {
       "height": 420,
       "width": 420
      }
     },
     "output_type": "display_data"
    }
   ],
   "source": [
    "\n",
    "# 1. Most common start station\n",
    "most_common_start_station <- ny %>%\n",
    "  count(`Start Station`) %>%\n",
    "  arrange(desc(n))\n",
    "\n",
    "cat(\"Most common start station in New York:\\n\")\n",
    "print(most_common_start_station[1, ])\n",
    "\n",
    "# Visualization for most common start stations (Top 10)\n",
    "ggplot(most_common_start_station[1:10, ], aes(x = reorder(`Start Station`, -n), y = n)) +\n",
    "  geom_bar(stat = \"identity\", fill = \"steelblue\") +  # Use a single color for simplicity\n",
    "  coord_flip() +\n",
    "  geom_text(aes(label = n), hjust = -0.2, size = 3) +  # Add data labels to the bars\n",
    "  labs(\n",
    "    title = \"Top 10 Most Common Start Stations in New York\",\n",
    "    x = \"Start Station\",\n",
    "    y = \"Number of Trips\"\n",
    "  ) +\n",
    "  theme_minimal() +\n",
    "  theme(\n",
    "    axis.text.y = element_text(size = 10),  # Adjust text size for station names\n",
    "    axis.text.x = element_text(size = 10),  # Adjust text size for x-axis labels\n",
    "    plot.title = element_text(hjust = 0.5, size = 14),  # Center and enlarge the title\n",
    "    legend.position = \"none\"  # Remove the legend\n",
    "  )\n",
    "\n",
    "# 2. Most common end station\n",
    "most_common_end_station <- ny %>%\n",
    "  count(`End Station`) %>%\n",
    "  arrange(desc(n))\n",
    "\n",
    "cat(\"\\nMost common end station in New York:\\n\")\n",
    "print(most_common_end_station[1, ])\n",
    "\n",
    "# Visualization for most common end stations (Top 10)\n",
    "ggplot(most_common_end_station[1:10, ], aes(x = reorder(`End Station`, -n), y = n)) +\n",
    "  geom_bar(stat = \"identity\", fill = \"steelblue\") +  # Use a single color for simplicity\n",
    "  coord_flip() +\n",
    "  geom_text(aes(label = n), hjust = -0.2, size = 3) +  # Add data labels to the bars\n",
    "  labs(\n",
    "    title = \"Top 10 Most Common End Stations in New York\",\n",
    "    x = \"End Station\",\n",
    "    y = \"Number of Trips\"\n",
    "  ) +\n",
    "  theme_minimal() +\n",
    "  theme(\n",
    "    axis.text.y = element_text(size = 10),  # Adjust text size for station names\n",
    "    axis.text.x = element_text(size = 10),  # Adjust text size for x-axis labels\n",
    "    plot.title = element_text(hjust = 0.5, size = 14),  # Center and enlarge the title\n",
    "    legend.position = \"none\"  # Remove the legend\n",
    "  )\n",
    "\n",
    "# 3. Most common trip (start to end)\n",
    "most_common_trip <- ny %>%\n",
    "  mutate(trip = paste(`Start Station`, \"to\", `End Station`)) %>%\n",
    "  count(trip) %>%\n",
    "  arrange(desc(n))\n",
    "\n",
    "cat(\"\\nMost common trip in New York:\\n\")\n",
    "print(most_common_trip[1, ])\n",
    "\n",
    "# Visualization for most common trips (Top 10)\n",
    "ggplot(most_common_trip[1:10, ], aes(x = reorder(trip, -n), y = n)) +\n",
    "  geom_bar(stat = \"identity\", fill = \"steelblue\") +  # Use a single color for simplicity\n",
    "  coord_flip() +\n",
    "  geom_text(aes(label = n), hjust = -0.2, size = 3) +  # Add data labels to the bars\n",
    "  labs(\n",
    "    title = \"Top 10 Most Common Trips in New York\",\n",
    "    x = \"Trip\",\n",
    "    y = \"Number of Trips\"\n",
    "  ) +\n",
    "  theme_minimal() +\n",
    "  theme(\n",
    "    axis.text.y = element_text(size = 8),  # Adjust text size for trip names\n",
    "    axis.text.x = element_text(size = 10),  # Adjust text size for x-axis labels\n",
    "    plot.title = element_text(hjust = 0.5, size = 14),  # Center and enlarge the title\n",
    "    legend.position = \"none\"  # Remove the legend\n",
    "  )\n"
   ]
  },
  {
   "cell_type": "markdown",
   "id": "911de694-ed6a-4dc7-8be1-0f251ec915f8",
   "metadata": {},
   "source": [
    "**From the Results we can see** <br>\n",
    "**Start Station:** The most common station where trips started is **Pershing Square North**. <br>\n",
    "**n:** The number of trips that started at this station is **3,069 trips**. <br>\n",
    "**This means that Pershing Square North is the most popular starting point for bike trips in New York** <br>\n",
    "**End Station:** The most common station where trips ended is also **Pershing Square North.** <br>\n",
    "**n:** The number of trips that ended at this station is **3,077**. <br>\n",
    "**This indicates that Pershing Square North is not only the most popular starting point but also the most popular destination for bike trips in New York.** <br>\n",
    "**trip:** The most common trip is from **E 7 St & Avenue A to Cooper Square & E 7 St.** <br>\n",
    "**n:** The number of trips for this specific route is **168.** <br>\n",
    "**This means that the trip from E 7 St & Avenue A to Cooper Square & E 7 St is the most frequently traveled route in New York.**"
   ]
  },
  {
   "cell_type": "markdown",
   "id": "62c72520-775c-4955-81a3-565e38c5f7fc",
   "metadata": {},
   "source": [
    "### Question 2-2\n",
    "#2 Popular stations and trip <br>\n",
    "**What is the most common start station for Washington?** <br>\n",
    "**What is the most common end station for Washington?** <br>\n",
    "**What is the most common trip from start to end for Washington (i.e., most frequent combination of start station and end station)?**\n"
   ]
  },
  {
   "cell_type": "code",
   "execution_count": 30,
   "id": "cbaca414-610f-4e3a-84a3-664098e37aea",
   "metadata": {},
   "outputs": [
    {
     "name": "stdout",
     "output_type": "stream",
     "text": [
      "Most common start station in Washington:\n",
      "\u001b[90m# A tibble: 1 × 2\u001b[39m\n",
      "  `Start Station`                     n\n",
      "  \u001b[3m\u001b[90m<chr>\u001b[39m\u001b[23m                           \u001b[3m\u001b[90m<int>\u001b[39m\u001b[23m\n",
      "\u001b[90m1\u001b[39m Columbus Circle / Union Station  \u001b[4m5\u001b[24m656\n",
      "\n",
      "Most common end station in Washington:\n",
      "\u001b[90m# A tibble: 1 × 2\u001b[39m\n",
      "  `End Station`                       n\n",
      "  \u001b[3m\u001b[90m<chr>\u001b[39m\u001b[23m                           \u001b[3m\u001b[90m<int>\u001b[39m\u001b[23m\n",
      "\u001b[90m1\u001b[39m Columbus Circle / Union Station  \u001b[4m6\u001b[24m048\n"
     ]
    },
    {
     "data": {
      "image/png": "[encoded data removed]",
      "text/plain": [
       "plot without title"
      ]
     },
     "metadata": {
      "image/png": {
       "height": 420,
       "width": 420
      }
     },
     "output_type": "display_data"
    },
    {
     "name": "stdout",
     "output_type": "stream",
     "text": [
      "\n",
      "Most common trip in Washington:\n",
      "\u001b[90m# A tibble: 1 × 2\u001b[39m\n",
      "  trip                                                       n\n",
      "  \u001b[3m\u001b[90m<chr>\u001b[39m\u001b[23m                                                  \u001b[3m\u001b[90m<int>\u001b[39m\u001b[23m\n",
      "\u001b[90m1\u001b[39m Jefferson Dr & 14th St SW to Jefferson Dr & 14th St SW   673\n"
     ]
    },
    {
     "data": {
      "image/png": "[encoded data removed]",
      "text/plain": [
       "plot without title"
      ]
     },
     "metadata": {
      "image/png": {
       "height": 420,
       "width": 420
      }
     },
     "output_type": "display_data"
    },
    {
     "data": {
      "image/png": "[encoded data removed]",
      "text/plain": [
       "plot without title"
      ]
     },
     "metadata": {
      "image/png": {
       "height": 420,
       "width": 420
      }
     },
     "output_type": "display_data"
    }
   ],
   "source": [
    "\n",
    "\n",
    "# 1. Most common start station\n",
    "most_common_start_station <- wash %>%\n",
    "  count(`Start Station`) %>%\n",
    "  arrange(desc(n))\n",
    "\n",
    "cat(\"Most common start station in Washington:\\n\")\n",
    "print(most_common_start_station[1, ])\n",
    "\n",
    "# Visualization for most common start stations (Top 10)\n",
    "ggplot(most_common_start_station[1:10, ], aes(x = reorder(`Start Station`, -n), y = n)) +\n",
    "  geom_bar(stat = \"identity\", fill = \"steelblue\") +  # Use a single color for simplicity\n",
    "  coord_flip() +\n",
    "  geom_text(aes(label = n), hjust = -0.2, size = 3) +  # Add data labels to the bars\n",
    "  labs(\n",
    "    title = \"Top 10 Most Common Start Stations in Washington\",\n",
    "    x = \"Start Station\",\n",
    "    y = \"Number of Trips\"\n",
    "  ) +\n",
    "  theme_minimal() +\n",
    "  theme(\n",
    "    axis.text.y = element_text(size = 10),  # Adjust text size for station names\n",
    "    axis.text.x = element_text(size = 10),  # Adjust text size for x-axis labels\n",
    "    plot.title = element_text(hjust = 0.5, size = 14),  # Center and enlarge the title\n",
    "    legend.position = \"none\"  # Remove the legend\n",
    "  )\n",
    "\n",
    "# 2. Most common end station\n",
    "most_common_end_station <- wash %>%\n",
    "  count(`End Station`) %>%\n",
    "  arrange(desc(n))\n",
    "\n",
    "cat(\"\\nMost common end station in Washington:\\n\")\n",
    "print(most_common_end_station[1, ])\n",
    "\n",
    "# Visualization for most common end stations (Top 10)\n",
    "ggplot(most_common_end_station[1:10, ], aes(x = reorder(`End Station`, -n), y = n)) +\n",
    "  geom_bar(stat = \"identity\", fill = \"steelblue\") +  # Use a single color for simplicity\n",
    "  coord_flip() +\n",
    "  geom_text(aes(label = n), hjust = -0.2, size = 3) +  # Add data labels to the bars\n",
    "  labs(\n",
    "    title = \"Top 10 Most Common End Stations in Washington\",\n",
    "    x = \"End Station\",\n",
    "    y = \"Number of Trips\"\n",
    "  ) +\n",
    "  theme_minimal() +\n",
    "  theme(\n",
    "    axis.text.y = element_text(size = 10),  # Adjust text size for station names\n",
    "    axis.text.x = element_text(size = 10),  # Adjust text size for x-axis labels\n",
    "    plot.title = element_text(hjust = 0.5, size = 14),  # Center and enlarge the title\n",
    "    legend.position = \"none\"  # Remove the legend\n",
    "  )\n",
    "\n",
    "# 3. Most common trip (start to end)\n",
    "most_common_trip <- wash %>%\n",
    "  mutate(trip = paste(`Start Station`, \"to\", `End Station`)) %>%\n",
    "  count(trip) %>%\n",
    "  arrange(desc(n))\n",
    "\n",
    "cat(\"\\nMost common trip in Washington:\\n\")\n",
    "print(most_common_trip[1, ])\n",
    "\n",
    "# Visualization for most common trips (Top 10)\n",
    "ggplot(most_common_trip[1:10, ], aes(x = reorder(trip, -n), y = n)) +\n",
    "  geom_bar(stat = \"identity\", fill = \"steelblue\") +  # Use a single color for simplicity\n",
    "  coord_flip() +\n",
    "  geom_text(aes(label = n), hjust = -0.2, size = 3) +  # Add data labels to the bars\n",
    "  labs(\n",
    "    title = \"Top 10 Most Common Trips in Washington\",\n",
    "    x = \"Trip\",\n",
    "    y = \"Number of Trips\"\n",
    "  ) +\n",
    "  theme_minimal() +\n",
    "  theme(\n",
    "    axis.text.y = element_text(size = 8),  # Adjust text size for trip names\n",
    "    axis.text.x = element_text(size = 10),  # Adjust text size for x-axis labels\n",
    "    plot.title = element_text(hjust = 0.5, size = 14),  # Center and enlarge the title\n",
    "    legend.position = \"none\"  # Remove the legend\n",
    "  )\n"
   ]
  },
  {
   "cell_type": "markdown",
   "id": "64509d32-d75e-4967-b124-ca9ecab22e8e",
   "metadata": {},
   "source": [
    "**From the Results we can see** <br>\n",
    "**Start Station:** The most common station where trips started is **Columbus Circle / Union Station.** <br>\n",
    "**n:** The number of trips that started at this station is **5,656.** <br>\n",
    "**This indicates that Columbus Circle / Union Station is a major hub for bike-sharing in Washington** <br>\n",
    "**End Station:** The most common station where trips ended is also **Columbus Circle / Union Station.** <br>\n",
    "**n:** The number of trips that ended at this station is **6,048.** <br>\n",
    "**This suggests that Columbus Circle / Union Station is not only a popular starting point but also a frequent destination for bike trips in Washington** <br>\n",
    "**trip:** The most common trip is **from Jefferson Dr & 14th St SW to Jefferson Dr & 14th St SW.** <br>\n",
    "**n:** The number of trips for this specific route is **673.**\n",
    "**This indicates that the most frequent trip in Washington is a round trip (starting and ending at the same station)**"
   ]
  },
  {
   "cell_type": "markdown",
   "id": "256c689d-5d5f-480a-81f3-ca2bf2f0a188",
   "metadata": {},
   "source": [
    "### Question 2-3\n",
    "#2 Popular stations and trip <br>\n",
    "**What is the most common start station for Chicago?** <br>\n",
    "**What is the most common end station for Chicago?** <br>\n",
    "**What is the most common trip from start to end for Chicago (i.e., most frequent combination of start station and end station)?**\n"
   ]
  },
  {
   "cell_type": "code",
   "execution_count": 29,
   "id": "04117dbd-544c-4c9d-8cad-945ff55140ef",
   "metadata": {},
   "outputs": [
    {
     "name": "stdout",
     "output_type": "stream",
     "text": [
      "Most common start station in Chicago:\n",
      "\u001b[90m# A tibble: 1 × 2\u001b[39m\n",
      "  `Start Station`             n\n",
      "  \u001b[3m\u001b[90m<chr>\u001b[39m\u001b[23m                   \u001b[3m\u001b[90m<int>\u001b[39m\u001b[23m\n",
      "\u001b[90m1\u001b[39m Streeter Dr & Grand Ave  \u001b[4m6\u001b[24m911\n",
      "\n",
      "Most common end station in Chicago:\n",
      "\u001b[90m# A tibble: 1 × 2\u001b[39m\n",
      "  `End Station`               n\n",
      "  \u001b[3m\u001b[90m<chr>\u001b[39m\u001b[23m                   \u001b[3m\u001b[90m<int>\u001b[39m\u001b[23m\n",
      "\u001b[90m1\u001b[39m Streeter Dr & Grand Ave  \u001b[4m7\u001b[24m512\n"
     ]
    },
    {
     "data": {
      "image/png": "[encoded data removed]",
      "text/plain": [
       "plot without title"
      ]
     },
     "metadata": {
      "image/png": {
       "height": 420,
       "width": 420
      }
     },
     "output_type": "display_data"
    },
    {
     "name": "stdout",
     "output_type": "stream",
     "text": [
      "\n",
      "Most common trip in Chicago:\n",
      "\u001b[90m# A tibble: 1 × 2\u001b[39m\n",
      "  trip                                                     n\n",
      "  \u001b[3m\u001b[90m<chr>\u001b[39m\u001b[23m                                                \u001b[3m\u001b[90m<int>\u001b[39m\u001b[23m\n",
      "\u001b[90m1\u001b[39m Lake Shore Dr & Monroe St to Streeter Dr & Grand Ave   854\n"
     ]
    },
    {
     "data": {
      "image/png": "[encoded data removed]",
      "text/plain": [
       "plot without title"
      ]
     },
     "metadata": {
      "image/png": {
       "height": 420,
       "width": 420
      }
     },
     "output_type": "display_data"
    },
    {
     "data": {
      "image/png": "[encoded data removed]",
      "text/plain": [
       "plot without title"
      ]
     },
     "metadata": {
      "image/png": {
       "height": 420,
       "width": 420
      }
     },
     "output_type": "display_data"
    }
   ],
   "source": [
    "\n",
    "# Analyzing the Chicago dataset (wash)\n",
    "\n",
    "# 1. Most common start station\n",
    "most_common_start_station <- chi %>%\n",
    "  count(`Start Station`) %>%\n",
    "  arrange(desc(n))\n",
    "\n",
    "cat(\"Most common start station in Chicago:\\n\")\n",
    "print(most_common_start_station[1, ])\n",
    "\n",
    "# Visualization for most common start stations (Top 10)\n",
    "ggplot(most_common_start_station[1:10, ], aes(x = reorder(`Start Station`, -n), y = n)) +\n",
    "  geom_bar(stat = \"identity\", fill = \"steelblue\") +  # Use a single color for simplicity\n",
    "  coord_flip() +\n",
    "  geom_text(aes(label = n), hjust = -0.2, size = 3) +  # Add data labels to the bars\n",
    "  labs(\n",
    "    title = \"Top 10 Most Common Start Stations in Chicago\",\n",
    "    x = \"Start Station\",\n",
    "    y = \"Number of Trips\"\n",
    "  ) +\n",
    "  theme_minimal() +\n",
    "  theme(\n",
    "    axis.text.y = element_text(size = 10),  # Adjust text size for station names\n",
    "    axis.text.x = element_text(size = 10),  # Adjust text size for x-axis labels\n",
    "    plot.title = element_text(hjust = 0.5, size = 14),  # Center and enlarge the title\n",
    "    legend.position = \"none\"  # Remove the legend\n",
    "  )\n",
    "\n",
    "# 2. Most common end station\n",
    "most_common_end_station <- chi %>%\n",
    "  count(`End Station`) %>%\n",
    "  arrange(desc(n))\n",
    "\n",
    "cat(\"\\nMost common end station in Chicago:\\n\")\n",
    "print(most_common_end_station[1, ])\n",
    "\n",
    "# Visualization for most common end stations (Top 10)\n",
    "ggplot(most_common_end_station[1:10, ], aes(x = reorder(`End Station`, -n), y = n)) +\n",
    "  geom_bar(stat = \"identity\", fill = \"steelblue\") +  # Use a single color for simplicity\n",
    "  coord_flip() +\n",
    "  geom_text(aes(label = n), hjust = -0.2, size = 3) +  # Add data labels to the bars\n",
    "  labs(\n",
    "    title = \"Top 10 Most Common End Stations in Chicago\",\n",
    "    x = \"End Station\",\n",
    "    y = \"Number of Trips\"\n",
    "  ) +\n",
    "  theme_minimal() +\n",
    "  theme(\n",
    "    axis.text.y = element_text(size = 10),  # Adjust text size for station names\n",
    "    axis.text.x = element_text(size = 10),  # Adjust text size for x-axis labels\n",
    "    plot.title = element_text(hjust = 0.5, size = 14),  # Center and enlarge the title\n",
    "    legend.position = \"none\"  # Remove the legend\n",
    "  )\n",
    "\n",
    "# 3. Most common trip (start to end)\n",
    "most_common_trip <- chi %>%\n",
    "  mutate(trip = paste(`Start Station`, \"to\", `End Station`)) %>%\n",
    "  count(trip) %>%\n",
    "  arrange(desc(n))\n",
    "\n",
    "cat(\"\\nMost common trip in Chicago:\\n\")\n",
    "print(most_common_trip[1, ])\n",
    "\n",
    "# Visualization for most common trips (Top 10)\n",
    "ggplot(most_common_trip[1:10, ], aes(x = reorder(trip, -n), y = n)) +\n",
    "  geom_bar(stat = \"identity\", fill = \"steelblue\") +  # Use a single color for simplicity\n",
    "  coord_flip() +\n",
    "  geom_text(aes(label = n), hjust = -0.2, size = 3) +  # Add data labels to the bars\n",
    "  labs(\n",
    "    title = \"Top 10 Most Common Trips in Chicago\",\n",
    "    x = \"Trip\",\n",
    "    y = \"Number of Trips\"\n",
    "  ) +\n",
    "  theme_minimal() +\n",
    "  theme(\n",
    "    axis.text.y = element_text(size = 8),  # Adjust text size for trip names\n",
    "    axis.text.x = element_text(size = 10),  # Adjust text size for x-axis labels\n",
    "    plot.title = element_text(hjust = 0.5, size = 14),  # Center and enlarge the title\n",
    "    legend.position = \"none\"  # Remove the legend\n",
    "  )\n"
   ]
  },
  {
   "cell_type": "markdown",
   "id": "963b4c1e-6741-465f-bb21-7a42471b4aa8",
   "metadata": {},
   "source": [
    "**From the Results we can see** <br>\n",
    "**Start Station:** The most common station where trips started is **Streeter Dr & Grand Ave.** <br>\n",
    "**n:** The number of trips that started at this station is **6,911.** <br>\n",
    "**This indicates that Streeter Dr & Grand Ave is a major hub for bike-sharing in Chicago** <br>\n",
    "**End Station:** The most common station where trips ended is also **Streeter Dr & Grand Ave.** <br>\n",
    "**n:** The number of trips that ended at this station is **7,512.** <br>\n",
    "**This suggests that Streeter Dr & Grand Ave is not only a popular starting point but also a frequent destination for bike trips in Chicago.** <br>\n",
    "**trip:** The most common trip is **Lake Shore Dr & Monroe St to Streeter Dr & Grand Ave.** <br>\n",
    "**n:** The number of trips for this specific route is **854.**\n",
    "**This indicates that the trip from Lake Shore Dr & Monroe St to Streeter Dr & Grand Ave is the most frequently traveled route in Chicago**"
   ]
  },
  {
   "cell_type": "markdown",
   "id": "8d55f274-8d68-423b-a286-734bcbe24728",
   "metadata": {},
   "source": [
    "### Question 3\n",
    "Trip duration <br>\n",
    "**•What is the total travel time for users in different cities?** <br>\n",
    "**•What is the average travel time for users in different cities?**\n"
   ]
  },
  {
   "cell_type": "code",
   "execution_count": 32,
   "id": "87569ad4-d126-4278-9f87-4495e0318838",
   "metadata": {},
   "outputs": [
    {
     "name": "stdout",
     "output_type": "stream",
     "text": [
      "        City Total_Travel_Time_Hours Average_Travel_Time_Minutes\n",
      "1   New York                74973.68                    14.99474\n",
      "2    Chicago                78019.94                    15.60399\n",
      "3 Washington               103106.66                    20.62133\n"
     ]
    },
    {
     "data": {
      "image/png": "[encoded data removed]",
      "text/plain": [
       "plot without title"
      ]
     },
     "metadata": {
      "image/png": {
       "height": 420,
       "width": 420
      }
     },
     "output_type": "display_data"
    },
    {
     "data": {
      "image/png": "[encoded data removed]",
      "text/plain": [
       "plot without title"
      ]
     },
     "metadata": {
      "image/png": {
       "height": 420,
       "width": 420
      }
     },
     "output_type": "display_data"
    }
   ],
   "source": [
    "# Calculate total and average travel time for each city\n",
    "travel_time_data <- data.frame(\n",
    "  City = c(\"New York\", \"Chicago\", \"Washington\"),\n",
    "  Total_Travel_Time_Hours = c(\n",
    "    sum(ny$`Trip Duration`, na.rm = TRUE) / 3600,  # Convert seconds to hours\n",
    "    sum(chi$`Trip Duration`, na.rm = TRUE) / 3600,\n",
    "    sum(wash$`Trip Duration`, na.rm = TRUE) / 3600\n",
    "  ),\n",
    "  Average_Travel_Time_Minutes = c(\n",
    "    mean(ny$`Trip Duration`, na.rm = TRUE) / 60,  # Convert seconds to minutes\n",
    "    mean(chi$`Trip Duration`, na.rm = TRUE) / 60,\n",
    "    mean(wash$`Trip Duration`, na.rm = TRUE) / 60\n",
    "  )\n",
    ")\n",
    "\n",
    "# Print the travel time data\n",
    "print(travel_time_data)\n",
    "\n",
    "# Visualization for total travel time\n",
    "ggplot(travel_time_data, aes(x = City, y = Total_Travel_Time_Hours, fill = City)) +\n",
    "  geom_bar(stat = \"identity\", show.legend = FALSE) +  # Remove legend\n",
    "  geom_text(aes(label = round(Total_Travel_Time_Hours, 1)), vjust = -0.5, size = 4) +  # Add data labels\n",
    "  labs(\n",
    "    title = \"Total Travel Time by City (in Hours)\",\n",
    "    x = \"City\",\n",
    "    y = \"Total Travel Time (Hours)\"\n",
    "  ) +\n",
    "  theme_minimal() +\n",
    "  theme(\n",
    "    axis.text.x = element_text(size = 10),  # Adjust text size for x-axis labels\n",
    "    axis.text.y = element_text(size = 10),  # Adjust text size for y-axis labels\n",
    "    plot.title = element_text(hjust = 0.5, size = 14)  # Center and enlarge the title\n",
    "  )\n",
    "\n",
    "# Visualization for average travel time\n",
    "ggplot(travel_time_data, aes(x = City, y = Average_Travel_Time_Minutes, fill = City)) +\n",
    "  geom_bar(stat = \"identity\", show.legend = FALSE) +  # Remove legend\n",
    "  geom_text(aes(label = round(Average_Travel_Time_Minutes, 1)), vjust = -0.5, size = 4) +  # Add data labels\n",
    "  labs(\n",
    "    title = \"Average Travel Time by City (in Minutes)\",\n",
    "    x = \"City\",\n",
    "    y = \"Average Travel Time (Minutes)\"\n",
    "  ) +\n",
    "  theme_minimal() +\n",
    "  theme(\n",
    "    axis.text.x = element_text(size = 10),  # Adjust text size for x-axis labels\n",
    "    axis.text.y = element_text(size = 10),  # Adjust text size for y-axis labels\n",
    "    plot.title = element_text(hjust = 0.5, size = 14)  # Center and enlarge the title\n",
    "  )\n"
   ]
  },
  {
   "cell_type": "markdown",
   "id": "64805a3a-4bce-405e-81e7-1f627f447cc6",
   "metadata": {},
   "source": [
    "**NewYork** <br>\n",
    "**Total Travel Time:** 269,905,248 seconds , This means users in New York spent approximately 74,974 hours on bike trips <br>\n",
    "**Average Travel Time:** 900 seconds,This means the average bike trip in New York lasts 15 minutes <br>\n",
    "**Chicago** <br>\n",
    "**Total Travel Time:** 280,871,787 seconds. , This means users in Chicago spent approximately 78,020 hours on bike trips <br>\n",
    "**Average Travel Time:** 936 seconds,This means the average bike trip in Chicago lasts approximately 15.6 minutes <br>\n",
    "**Washington** <br>\n",
    "**Total Travel Time:** 371,183,985 seconds. , This means users in Washington spent approximately 103,107 hours on bike trips <br>\n",
    "**Average Travel Time:** 1237 seconds,This means the average bike trip in Washington lasts approximately 20.6 minutes <br>"
   ]
  },
  {
   "cell_type": "markdown",
   "id": "2f64fe8f-3a14-4472-9ecf-3fb10b36cff3",
   "metadata": {},
   "source": [
    "### Question 4-1\n",
    "User Information <br>\n",
    "**•\tWhat are the counts of each user type?** <br>\n",
    "**•\tWhat are the counts of each gender (only available for NYC and Chicago)?** <br>\n",
    "**•\tWhat are the earliest, most recent, most common year of birth (only available for NYC and Chicago)?** <br>\n",
    "\n"
   ]
  },
  {
   "cell_type": "code",
   "execution_count": 34,
   "id": "da0595e2-d9dc-427a-a495-4cb4f17e143b",
   "metadata": {},
   "outputs": [
    {
     "name": "stdout",
     "output_type": "stream",
     "text": [
      "Counts of each user type in New York:\n",
      "\u001b[90m# A tibble: 3 × 2\u001b[39m\n",
      "  `User Type`      n\n",
      "  \u001b[3m\u001b[90m<chr>\u001b[39m\u001b[23m        \u001b[3m\u001b[90m<int>\u001b[39m\u001b[23m\n",
      "\u001b[90m1\u001b[39m Customer     \u001b[4m3\u001b[24m\u001b[4m0\u001b[24m159\n",
      "\u001b[90m2\u001b[39m Subscriber  \u001b[4m2\u001b[24m\u001b[4m6\u001b[24m\u001b[4m9\u001b[24m149\n",
      "\u001b[90m3\u001b[39m \u001b[31mNA\u001b[39m             692\n",
      "\n",
      "Counts of each user type in Chicago:\n",
      "\u001b[90m# A tibble: 3 × 2\u001b[39m\n",
      "  `User Type`      n\n",
      "  \u001b[3m\u001b[90m<chr>\u001b[39m\u001b[23m        \u001b[3m\u001b[90m<int>\u001b[39m\u001b[23m\n",
      "\u001b[90m1\u001b[39m Customer     \u001b[4m6\u001b[24m\u001b[4m1\u001b[24m110\n",
      "\u001b[90m2\u001b[39m Dependent        1\n",
      "\u001b[90m3\u001b[39m Subscriber  \u001b[4m2\u001b[24m\u001b[4m3\u001b[24m\u001b[4m8\u001b[24m889\n",
      "\n",
      "Counts of each user type in Washington:\n",
      "\u001b[90m# A tibble: 2 × 2\u001b[39m\n",
      "  `User Type`      n\n",
      "  \u001b[3m\u001b[90m<chr>\u001b[39m\u001b[23m        \u001b[3m\u001b[90m<int>\u001b[39m\u001b[23m\n",
      "\u001b[90m1\u001b[39m Customer     \u001b[4m7\u001b[24m\u001b[4m9\u001b[24m214\n",
      "\u001b[90m2\u001b[39m Subscriber  \u001b[4m2\u001b[24m\u001b[4m2\u001b[24m\u001b[4m0\u001b[24m786\n",
      "\n",
      "Counts of each gender in New York:\n",
      "\u001b[90m# A tibble: 3 × 2\u001b[39m\n",
      "  Gender      n\n",
      "  \u001b[3m\u001b[90m<chr>\u001b[39m\u001b[23m   \u001b[3m\u001b[90m<int>\u001b[39m\u001b[23m\n",
      "\u001b[90m1\u001b[39m Female  \u001b[4m6\u001b[24m\u001b[4m6\u001b[24m783\n",
      "\u001b[90m2\u001b[39m Male   \u001b[4m2\u001b[24m\u001b[4m0\u001b[24m\u001b[4m4\u001b[24m008\n",
      "\u001b[90m3\u001b[39m \u001b[31mNA\u001b[39m      \u001b[4m2\u001b[24m\u001b[4m9\u001b[24m209\n",
      "\n",
      "Counts of each gender in Chicago:\n",
      "\u001b[90m# A tibble: 3 × 2\u001b[39m\n",
      "  Gender      n\n",
      "  \u001b[3m\u001b[90m<chr>\u001b[39m\u001b[23m   \u001b[3m\u001b[90m<int>\u001b[39m\u001b[23m\n",
      "\u001b[90m1\u001b[39m Female  \u001b[4m5\u001b[24m\u001b[4m7\u001b[24m758\n",
      "\u001b[90m2\u001b[39m Male   \u001b[4m1\u001b[24m\u001b[4m8\u001b[24m\u001b[4m1\u001b[24m190\n",
      "\u001b[90m3\u001b[39m \u001b[31mNA\u001b[39m      \u001b[4m6\u001b[24m\u001b[4m1\u001b[24m052\n",
      "\n",
      "Birth year statistics for New York:\n",
      "\u001b[90m# A tibble: 1 × 3\u001b[39m\n",
      "  earliest_birth_year most_recent_birth_year most_common_birth_year\n",
      "                \u001b[3m\u001b[90m<dbl>\u001b[39m\u001b[23m                  \u001b[3m\u001b[90m<dbl>\u001b[39m\u001b[23m                  \u001b[3m\u001b[90m<dbl>\u001b[39m\u001b[23m\n",
      "\u001b[90m1\u001b[39m                \u001b[4m1\u001b[24m885                   \u001b[4m2\u001b[24m001                   \u001b[4m1\u001b[24m989\n",
      "\n",
      "Birth year statistics for Chicago:\n",
      "\u001b[90m# A tibble: 1 × 3\u001b[39m\n",
      "  earliest_birth_year most_recent_birth_year most_common_birth_year\n",
      "                \u001b[3m\u001b[90m<dbl>\u001b[39m\u001b[23m                  \u001b[3m\u001b[90m<dbl>\u001b[39m\u001b[23m                  \u001b[3m\u001b[90m<dbl>\u001b[39m\u001b[23m\n",
      "\u001b[90m1\u001b[39m                \u001b[4m1\u001b[24m899                   \u001b[4m2\u001b[24m016                   \u001b[4m1\u001b[24m989\n"
     ]
    }
   ],
   "source": [
    "# 1. Counts of each user type\n",
    "# New York\n",
    "ny_user_type_counts <- ny %>%\n",
    "  count(`User Type`)\n",
    "\n",
    "cat(\"Counts of each user type in New York:\\n\")\n",
    "print(ny_user_type_counts)\n",
    "\n",
    "# Chicago\n",
    "chi_user_type_counts <- chi %>%\n",
    "  count(`User Type`)\n",
    "\n",
    "cat(\"\\nCounts of each user type in Chicago:\\n\")\n",
    "print(chi_user_type_counts)\n",
    "\n",
    "# Washington\n",
    "wash_user_type_counts <- wash %>%\n",
    "  count(`User Type`)\n",
    "\n",
    "cat(\"\\nCounts of each user type in Washington:\\n\")\n",
    "print(wash_user_type_counts)\n",
    "\n",
    "# 2. Counts of each gender (only for NYC and Chicago)\n",
    "# New York\n",
    "ny_gender_counts <- ny %>%\n",
    "  count(Gender)\n",
    "\n",
    "cat(\"\\nCounts of each gender in New York:\\n\")\n",
    "print(ny_gender_counts)\n",
    "\n",
    "# Chicago\n",
    "chi_gender_counts <- chi %>%\n",
    "  count(Gender)\n",
    "\n",
    "cat(\"\\nCounts of each gender in Chicago:\\n\")\n",
    "print(chi_gender_counts)\n",
    "\n",
    "# 3. Birth year statistics (only for NYC and Chicago)\n",
    "# New York\n",
    "ny_birth_year_stats <- ny %>%\n",
    "  summarise(\n",
    "    earliest_birth_year = min(`Birth Year`, na.rm = TRUE),\n",
    "    most_recent_birth_year = max(`Birth Year`, na.rm = TRUE),\n",
    "    most_common_birth_year = as.numeric(names(which.max(table(`Birth Year`))))\n",
    "  )\n",
    "\n",
    "cat(\"\\nBirth year statistics for New York:\\n\")\n",
    "print(ny_birth_year_stats)\n",
    "\n",
    "# Chicago\n",
    "chi_birth_year_stats <- chi %>%\n",
    "  summarise(\n",
    "    earliest_birth_year = min(`Birth Year`, na.rm = TRUE),\n",
    "    most_recent_birth_year = max(`Birth Year`, na.rm = TRUE),\n",
    "    most_common_birth_year = as.numeric(names(which.max(table(`Birth Year`))))\n",
    "  )\n",
    "\n",
    "cat(\"\\nBirth year statistics for Chicago:\\n\")\n",
    "print(chi_birth_year_stats)\n"
   ]
  },
  {
   "cell_type": "code",
   "execution_count": 33,
   "id": "51bde39d-b993-4a87-9700-a95d64503df7",
   "metadata": {},
   "outputs": [
    {
     "data": {
      "image/png": "[encoded data removed]",
      "text/plain": [
       "plot without title"
      ]
     },
     "metadata": {
      "image/png": {
       "height": 420,
       "width": 420
      }
     },
     "output_type": "display_data"
    },
    {
     "data": {
      "image/png": "[encoded data removed]",
      "text/plain": [
       "plot without title"
      ]
     },
     "metadata": {
      "image/png": {
       "height": 420,
       "width": 420
      }
     },
     "output_type": "display_data"
    },
    {
     "data": {
      "image/png": "[encoded data removed]",
      "text/plain": [
       "plot without title"
      ]
     },
     "metadata": {
      "image/png": {
       "height": 420,
       "width": 420
      }
     },
     "output_type": "display_data"
    }
   ],
   "source": [
    "\n",
    "# 1. Counts of each user type\n",
    "# Combine data for all cities\n",
    "user_type_data <- data.frame(\n",
    "  City = c(\"New York\", \"Chicago\", \"Washington\"),\n",
    "  User_Type = c(\n",
    "    paste(ny_user_type_counts$`User Type`, collapse = \", \"),\n",
    "    paste(chi_user_type_counts$`User Type`, collapse = \", \"),\n",
    "    paste(wash_user_type_counts$`User Type`, collapse = \", \")\n",
    "  )\n",
    ")\n",
    "\n",
    "# Visualization for user type counts\n",
    "ggplot(user_type_data, aes(x = City, y = User_Type)) +\n",
    "  geom_bar(stat = \"identity\", fill = \"steelblue\") +\n",
    "  coord_flip() +\n",
    "  geom_text(aes(label = User_Type), hjust = -0.2, size = 3) +\n",
    "  labs(\n",
    "    title = \"User Type Counts by City\",\n",
    "    x = \"City\",\n",
    "    y = \"User Type\"\n",
    "  ) +\n",
    "  theme_minimal() +\n",
    "  theme(\n",
    "    axis.text.y = element_text(size = 10),\n",
    "    axis.text.x = element_text(size = 10),\n",
    "    plot.title = element_text(hjust = 0.5, size = 14),\n",
    "    legend.position = \"none\"\n",
    "  )\n",
    "\n",
    "# 2. Counts of each gender (only for NYC and Chicago)\n",
    "gender_data <- data.frame(\n",
    "  City = c(\"New York\", \"Chicago\"),\n",
    "  Gender = c(\n",
    "    paste(ny_gender_counts$Gender, collapse = \", \"),\n",
    "    paste(chi_gender_counts$Gender, collapse = \", \")\n",
    "  )\n",
    ")\n",
    "\n",
    "# Visualization for gender counts\n",
    "ggplot(gender_data, aes(x = City, y = Gender)) +\n",
    "  geom_bar(stat = \"identity\", fill = \"steelblue\") +\n",
    "  coord_flip() +\n",
    "  geom_text(aes(label = Gender), hjust = -0.2, size = 3) +\n",
    "  labs(\n",
    "    title = \"Gender Counts by City\",\n",
    "    x = \"City\",\n",
    "    y = \"Gender\"\n",
    "  ) +\n",
    "  theme_minimal() +\n",
    "  theme(\n",
    "    axis.text.y = element_text(size = 10),\n",
    "    axis.text.x = element_text(size = 10),\n",
    "    plot.title = element_text(hjust = 0.5, size = 14),\n",
    "    legend.position = \"none\"\n",
    "  )\n",
    "\n",
    "# 3. Birth year statistics (only for NYC and Chicago)\n",
    "birth_year_data <- data.frame(\n",
    "  City = c(\"New York\", \"Chicago\"),\n",
    "  Earliest_Birth_Year = c(ny_birth_year_stats$earliest_birth_year, chi_birth_year_stats$earliest_birth_year),\n",
    "  Most_Recent_Birth_Year = c(ny_birth_year_stats$most_recent_birth_year, chi_birth_year_stats$most_recent_birth_year),\n",
    "  Most_Common_Birth_Year = c(ny_birth_year_stats$most_common_birth_year, chi_birth_year_stats$most_common_birth_year)\n",
    ")\n",
    "\n",
    "# Visualization for birth year statistics\n",
    "ggplot(birth_year_data, aes(x = City)) +\n",
    "  geom_bar(aes(y = Earliest_Birth_Year), stat = \"identity\", fill = \"steelblue\") +\n",
    "  geom_bar(aes(y = Most_Recent_Birth_Year), stat = \"identity\", fill = \"darkorange\") +\n",
    "  geom_bar(aes(y = Most_Common_Birth_Year), stat = \"identity\", fill = \"green\") +\n",
    "  labs(\n",
    "    title = \"Birth Year Statistics by City\",\n",
    "    x = \"City\",\n",
    "    y = \"Birth Year\"\n",
    "  ) +\n",
    "  theme_minimal() +\n",
    "  theme(\n",
    "    axis.text.y = element_text(size = 10),\n",
    "    axis.text.x = element_text(size = 10),\n",
    "    plot.title = element_text(hjust = 0.5, size = 14),\n",
    "    legend.position = \"none\"\n",
    "  )\n"
   ]
  },
  {
   "cell_type": "markdown",
   "id": "9abc6cbd-220b-435b-88a3-ec93b79e086c",
   "metadata": {},
   "source": [
    "**User Type** <br>\n",
    "* This means there are 30159 Customers and 269149 Subscribers in New York <br>\n",
    "* This means there are 61110 Customers and one dependent and 238889 Subscribers in Chicago <br>\n",
    "* This means there are 79214 Customers and 220786 Subscribers in Washington <br>\n",
    "**Each Gender** <br>\n",
    "* There are 66783 Females and 204008 Males and 29208 NA ( Not Applicable) in NewYork <br>\n",
    "* There are 57758 Females and 181190 Males and 61052 NA ( Not Applicable) in Chicago <br>\n",
    "\n",
    "**Birth Year Statistics for New York** <br>\n",
    "**Earliest Birth Year:** 1885 <br>\n",
    "This indicates that the oldest user in the New York dataset was born in 1885 (I think it should be 1985 and the user entered the date in a hurry). While this is technically possible, <br>\n",
    "it is likely an outlier or a data entry error, as this would make the user 140 years old in 2025.<br>\n",
    "**Most Recent Birth Year:** 2001 <br>\n",
    "This indicates that the youngest user in the New York dataset was born in 2001, making them 24 years old in 2025. This is a reasonable value. <br>\n",
    "**Most Common Birth Year:** 1989 <br>\n",
    "This indicates that the majority of users in the New York dataset were born in 1989, <br>\n",
    "making them 36 years old in 2025. This suggests that the bike-sharing system is most popular among users in their mid-30s.\n",
    "\n",
    "**Birth Year Statistics for Chicago** <br>\n",
    "**Earliest Birth Year:** 1899 <br>\n",
    "This indicates that the oldest user in the Chicago dataset was born in 1899. <br>\n",
    "Similar to New York, this is likely an outlier or a data entry error, as this would make the user 126 years old in 2025.<br>\n",
    "**Most Recent Birth Year:** 2016\n",
    "This indicates that the youngest user in the Chicago dataset was born in 2016, <br>\n",
    "making them 9 years old in 2025. This is almost certainly a data entry error, <br>\n",
    "as it is highly unlikely for a 9-year-old to use the bike-sharing system. <br>\n",
    "**Most Common Birth Year:** 1989 <br>\n",
    "This indicates that the majority of users in the Chicago dataset were born in 1989, making them 36 years old in 2025, similar to New York.\n"
   ]
  },
  {
   "cell_type": "markdown",
   "id": "fb0864f7-9c79-4402-94a3-2b37fcac08ee",
   "metadata": {},
   "source": [
    "\n",
    "## Finishing Up\n",
    "\n",
    "> Congratulations!  You have reached the end of the Explore Bikeshare Data Project. You should be very proud of all you have accomplished!\n",
    "\n",
    "> **Tip**: Once you are satisfied with your work here, check over your report to make sure that it is satisfies all the areas of the [rubric](https://review.udacity.com/#!/rubrics/2508/view). \n",
    "\n",
    "\n",
    "## Directions to Submit\n",
    "\n",
    "> Before you submit your project, you need to create a .html or .pdf version of this notebook in the workspace here. To do that, run the code cell below. If it worked correctly, you should get a return code of 0, and you should see the generated .html file in the workspace directory (click on the orange Jupyter icon in the upper left).\n",
    "\n",
    "> Alternatively, you can download this report as .html via the **File** > **Download as** submenu, and then manually upload it into the workspace directory by clicking on the orange Jupyter icon in the upper left, then using the Upload button.\n",
    "\n",
    "> Once you've done this, you can submit your project by clicking on the \"Submit Project\" button in the lower right here. This will create and submit a zip file with this .ipynb doc and the .html or .pdf version you created. Congratulations!"
   ]
  }
 ],
 "metadata": {
  "kernelspec": {
   "display_name": "R",
   "language": "R",
   "name": "ir"
  },
  "language_info": {
   "codemirror_mode": "r",
   "file_extension": ".r",
   "mimetype": "text/x-r-source",
   "name": "R",
   "pygments_lexer": "r",
   "version": "4.5.1"
  }
 },
 "nbformat": 4,
 "nbformat_minor": 5
}
